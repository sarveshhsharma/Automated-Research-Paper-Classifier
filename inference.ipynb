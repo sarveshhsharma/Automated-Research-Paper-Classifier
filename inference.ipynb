{
 "cells": [
  {
   "cell_type": "code",
   "execution_count": 1,
   "metadata": {
    "_cell_guid": "b1076dfc-b9ad-4769-8c92-a6c4dae69d19",
    "_uuid": "8f2839f25d086af736a60e9eeb907d3b93b6e0e5",
    "execution": {
     "iopub.execute_input": "2024-02-09T18:13:57.063178Z",
     "iopub.status.busy": "2024-02-09T18:13:57.062291Z",
     "iopub.status.idle": "2024-02-09T18:13:57.447295Z",
     "shell.execute_reply": "2024-02-09T18:13:57.446365Z",
     "shell.execute_reply.started": "2024-02-09T18:13:57.063146Z"
    },
    "trusted": true
   },
   "outputs": [
    {
     "name": "stdout",
     "output_type": "stream",
     "text": [
      "/kaggle/input/train-dataset/train.csv\n",
      "/kaggle/input/detbert3weights/MLTC_model_statedetbert.bin69\n",
      "/kaggle/input/test-dataset/test.csv\n",
      "/kaggle/input/roberta3weights/MLTC_model_stateroberta3.bin5\n",
      "/kaggle/input/sample-submission/sample_submission.csv\n",
      "/kaggle/input/detbet6weights/MLTC_model_statedet6.bin69\n",
      "/kaggle/input/debertalargeweights/MLTC_model_statedet6.bin75\n",
      "/kaggle/input/roberta6weights/MLTC_model_stateroberta6.bin5\n"
     ]
    }
   ],
   "source": [
    "# This Python 3 environment comes with many helpful analytics libraries installed\n",
    "# It is defined by the kaggle/python Docker image: https://github.com/kaggle/docker-python\n",
    "# For example, here's several helpful packages to load\n",
    "\n",
    "import numpy as np # linear algebra\n",
    "import pandas as pd # data processing, CSV file I/O (e.g. pd.read_csv)\n",
    "\n",
    "# Input data files are available in the read-only \"../input/\" directory\n",
    "# For example, running this (by clicking run or pressing Shift+Enter) will list all files under the input directory\n",
    "\n",
    "import os\n",
    "for dirname, _, filenames in os.walk('/kaggle/input'):\n",
    "    for filename in filenames:\n",
    "        print(os.path.join(dirname, filename))\n",
    "\n",
    "# You can write up to 20GB to the current directory (/kaggle/working/) that gets preserved as output when you create a version using \"Save & Run All\" \n",
    "# You can also write temporary files to /kaggle/temp/, but they won't be saved outside of the current sessi"
   ]
  },
  {
   "cell_type": "code",
   "execution_count": null,
   "metadata": {
    "trusted": true
   },
   "outputs": [],
   "source": []
  },
  {
   "cell_type": "code",
   "execution_count": 2,
   "metadata": {
    "execution": {
     "iopub.execute_input": "2024-02-09T18:13:58.867532Z",
     "iopub.status.busy": "2024-02-09T18:13:58.866744Z",
     "iopub.status.idle": "2024-02-09T18:13:58.871495Z",
     "shell.execute_reply": "2024-02-09T18:13:58.870454Z",
     "shell.execute_reply.started": "2024-02-09T18:13:58.867494Z"
    },
    "trusted": true
   },
   "outputs": [],
   "source": [
    "MAX_LEN = 256\n",
    "TEST_BATCH_SIZE = 4"
   ]
  },
  {
   "cell_type": "code",
   "execution_count": 3,
   "metadata": {
    "execution": {
     "iopub.execute_input": "2024-02-09T18:14:06.447474Z",
     "iopub.status.busy": "2024-02-09T18:14:06.446762Z",
     "iopub.status.idle": "2024-02-09T18:14:13.237145Z",
     "shell.execute_reply": "2024-02-09T18:14:13.236156Z",
     "shell.execute_reply.started": "2024-02-09T18:14:06.447435Z"
    },
    "trusted": true
   },
   "outputs": [],
   "source": [
    "from transformers import DebertaTokenizer, DebertaModel"
   ]
  },
  {
   "cell_type": "code",
   "execution_count": 4,
   "metadata": {
    "execution": {
     "iopub.execute_input": "2024-02-09T18:14:13.240241Z",
     "iopub.status.busy": "2024-02-09T18:14:13.239134Z",
     "iopub.status.idle": "2024-02-09T18:14:13.250423Z",
     "shell.execute_reply": "2024-02-09T18:14:13.249613Z",
     "shell.execute_reply.started": "2024-02-09T18:14:13.240204Z"
    },
    "trusted": true
   },
   "outputs": [],
   "source": [
    "from transformers import RobertaTokenizer,RobertaModel "
   ]
  },
  {
   "cell_type": "code",
   "execution_count": 5,
   "metadata": {
    "execution": {
     "iopub.execute_input": "2024-02-09T18:14:13.251784Z",
     "iopub.status.busy": "2024-02-09T18:14:13.251500Z",
     "iopub.status.idle": "2024-02-09T18:14:14.676130Z",
     "shell.execute_reply": "2024-02-09T18:14:14.675336Z",
     "shell.execute_reply.started": "2024-02-09T18:14:13.251759Z"
    },
    "trusted": true
   },
   "outputs": [
    {
     "data": {
      "application/vnd.jupyter.widget-view+json": {
       "model_id": "b86d4078b13c41c4b9bf03e28ddec566",
       "version_major": 2,
       "version_minor": 0
      },
      "text/plain": [
       "tokenizer_config.json:   0%|          | 0.00/52.0 [00:00<?, ?B/s]"
      ]
     },
     "metadata": {},
     "output_type": "display_data"
    },
    {
     "data": {
      "application/vnd.jupyter.widget-view+json": {
       "model_id": "a3dac5a7c48a4f06ae577cbdd1caa078",
       "version_major": 2,
       "version_minor": 0
      },
      "text/plain": [
       "vocab.json:   0%|          | 0.00/899k [00:00<?, ?B/s]"
      ]
     },
     "metadata": {},
     "output_type": "display_data"
    },
    {
     "data": {
      "application/vnd.jupyter.widget-view+json": {
       "model_id": "fa796948e6644bf6989ae1f9c15f8d20",
       "version_major": 2,
       "version_minor": 0
      },
      "text/plain": [
       "merges.txt:   0%|          | 0.00/456k [00:00<?, ?B/s]"
      ]
     },
     "metadata": {},
     "output_type": "display_data"
    },
    {
     "data": {
      "application/vnd.jupyter.widget-view+json": {
       "model_id": "9dea7ed79e7444f5b50f1223c45655f7",
       "version_major": 2,
       "version_minor": 0
      },
      "text/plain": [
       "config.json:   0%|          | 0.00/474 [00:00<?, ?B/s]"
      ]
     },
     "metadata": {},
     "output_type": "display_data"
    }
   ],
   "source": [
    "tokenizer1 = DebertaTokenizer.from_pretrained('microsoft/deberta-base', truncation=True, do_lower_case=True)"
   ]
  },
  {
   "cell_type": "code",
   "execution_count": 6,
   "metadata": {
    "execution": {
     "iopub.execute_input": "2024-02-09T18:14:22.174386Z",
     "iopub.status.busy": "2024-02-09T18:14:22.173562Z",
     "iopub.status.idle": "2024-02-09T18:14:24.009931Z",
     "shell.execute_reply": "2024-02-09T18:14:24.008896Z",
     "shell.execute_reply.started": "2024-02-09T18:14:22.174353Z"
    },
    "trusted": true
   },
   "outputs": [
    {
     "data": {
      "application/vnd.jupyter.widget-view+json": {
       "model_id": "fd939f75865a498a87cff607da01e078",
       "version_major": 2,
       "version_minor": 0
      },
      "text/plain": [
       "tokenizer_config.json:   0%|          | 0.00/52.0 [00:00<?, ?B/s]"
      ]
     },
     "metadata": {},
     "output_type": "display_data"
    },
    {
     "data": {
      "application/vnd.jupyter.widget-view+json": {
       "model_id": "d122f80232704eb1abe364724c026988",
       "version_major": 2,
       "version_minor": 0
      },
      "text/plain": [
       "vocab.json:   0%|          | 0.00/899k [00:00<?, ?B/s]"
      ]
     },
     "metadata": {},
     "output_type": "display_data"
    },
    {
     "data": {
      "application/vnd.jupyter.widget-view+json": {
       "model_id": "5fe27f677e814f91899a18207c4cdc58",
       "version_major": 2,
       "version_minor": 0
      },
      "text/plain": [
       "merges.txt:   0%|          | 0.00/456k [00:00<?, ?B/s]"
      ]
     },
     "metadata": {},
     "output_type": "display_data"
    },
    {
     "data": {
      "application/vnd.jupyter.widget-view+json": {
       "model_id": "80ec64f0e91842f79a166ba50ad62eee",
       "version_major": 2,
       "version_minor": 0
      },
      "text/plain": [
       "config.json:   0%|          | 0.00/475 [00:00<?, ?B/s]"
      ]
     },
     "metadata": {},
     "output_type": "display_data"
    }
   ],
   "source": [
    "tokenizer2 = DebertaTokenizer.from_pretrained('microsoft/deberta-large',truncation=True, do_lower_case=True)"
   ]
  },
  {
   "cell_type": "code",
   "execution_count": 7,
   "metadata": {
    "execution": {
     "iopub.execute_input": "2024-02-09T18:14:24.011856Z",
     "iopub.status.busy": "2024-02-09T18:14:24.011558Z",
     "iopub.status.idle": "2024-02-09T18:14:25.523899Z",
     "shell.execute_reply": "2024-02-09T18:14:25.523076Z",
     "shell.execute_reply.started": "2024-02-09T18:14:24.011831Z"
    },
    "trusted": true
   },
   "outputs": [
    {
     "data": {
      "application/vnd.jupyter.widget-view+json": {
       "model_id": "904831a02d5d4215b82fee050fde562a",
       "version_major": 2,
       "version_minor": 0
      },
      "text/plain": [
       "vocab.json:   0%|          | 0.00/899k [00:00<?, ?B/s]"
      ]
     },
     "metadata": {},
     "output_type": "display_data"
    },
    {
     "data": {
      "application/vnd.jupyter.widget-view+json": {
       "model_id": "b2e8115b14074d76993fcf3f40f42bb4",
       "version_major": 2,
       "version_minor": 0
      },
      "text/plain": [
       "merges.txt:   0%|          | 0.00/456k [00:00<?, ?B/s]"
      ]
     },
     "metadata": {},
     "output_type": "display_data"
    },
    {
     "data": {
      "application/vnd.jupyter.widget-view+json": {
       "model_id": "3e41eb27d8ff47179f98bb2b195e6656",
       "version_major": 2,
       "version_minor": 0
      },
      "text/plain": [
       "tokenizer.json:   0%|          | 0.00/1.36M [00:00<?, ?B/s]"
      ]
     },
     "metadata": {},
     "output_type": "display_data"
    },
    {
     "data": {
      "application/vnd.jupyter.widget-view+json": {
       "model_id": "eecd93c02b6c43179f7e72c21b504657",
       "version_major": 2,
       "version_minor": 0
      },
      "text/plain": [
       "config.json:   0%|          | 0.00/481 [00:00<?, ?B/s]"
      ]
     },
     "metadata": {},
     "output_type": "display_data"
    }
   ],
   "source": [
    "tokenizer4 = RobertaTokenizer.from_pretrained('roberta-base', truncation=True, do_lower_case=True)"
   ]
  },
  {
   "cell_type": "code",
   "execution_count": 8,
   "metadata": {
    "execution": {
     "iopub.execute_input": "2024-02-09T18:14:25.525142Z",
     "iopub.status.busy": "2024-02-09T18:14:25.524892Z",
     "iopub.status.idle": "2024-02-09T18:14:25.703246Z",
     "shell.execute_reply": "2024-02-09T18:14:25.702236Z",
     "shell.execute_reply.started": "2024-02-09T18:14:25.525120Z"
    },
    "trusted": true
   },
   "outputs": [],
   "source": [
    "tokenizer3 = DebertaTokenizer.from_pretrained('microsoft/deberta-base', truncation=True, do_lower_case=True)"
   ]
  },
  {
   "cell_type": "code",
   "execution_count": 9,
   "metadata": {
    "execution": {
     "iopub.execute_input": "2024-02-09T18:14:25.706149Z",
     "iopub.status.busy": "2024-02-09T18:14:25.705699Z",
     "iopub.status.idle": "2024-02-09T18:14:25.710294Z",
     "shell.execute_reply": "2024-02-09T18:14:25.709341Z",
     "shell.execute_reply.started": "2024-02-09T18:14:25.706115Z"
    },
    "trusted": true
   },
   "outputs": [],
   "source": [
    "import torch"
   ]
  },
  {
   "cell_type": "code",
   "execution_count": 10,
   "metadata": {
    "execution": {
     "iopub.execute_input": "2024-02-09T18:14:25.711611Z",
     "iopub.status.busy": "2024-02-09T18:14:25.711361Z",
     "iopub.status.idle": "2024-02-09T18:14:25.720396Z",
     "shell.execute_reply": "2024-02-09T18:14:25.719649Z",
     "shell.execute_reply.started": "2024-02-09T18:14:25.711589Z"
    },
    "trusted": true
   },
   "outputs": [],
   "source": [
    "class CustomDataset(torch.utils.data.Dataset):\n",
    "    def __init__(self, df, tokenizer, max_len, target_list):\n",
    "        self.tokenizer = tokenizer\n",
    "        self.df = df\n",
    "        self.title = list(df['combined'])\n",
    "        self.targets = self.df[target_list].values\n",
    "        self.max_len = max_len\n",
    "\n",
    "    def __len__(self):\n",
    "        return len(self.title)\n",
    "\n",
    "    def __getitem__(self, index):\n",
    "        title = str(self.title[index])\n",
    "        title = \" \".join(title.split())\n",
    "        inputs = self.tokenizer.encode_plus(\n",
    "            title,\n",
    "            None,\n",
    "            add_special_tokens=True,\n",
    "            max_length=self.max_len,\n",
    "            return_token_type_ids=True,\n",
    "            padding='max_length',\n",
    "            truncation=True,\n",
    "            return_attention_mask=True,\n",
    "            return_tensors='pt'\n",
    "        )\n",
    "        return {\n",
    "            'input_ids': inputs['input_ids'].flatten(),\n",
    "            'attention_mask': inputs['attention_mask'].flatten(),\n",
    "            'token_type_ids': inputs[\"token_type_ids\"].flatten(),\n",
    "            'targets': torch.FloatTensor(self.targets[index]),\n",
    "            'title': title\n",
    "        }\n"
   ]
  },
  {
   "cell_type": "code",
   "execution_count": 18,
   "metadata": {
    "execution": {
     "iopub.execute_input": "2024-02-09T18:14:48.808382Z",
     "iopub.status.busy": "2024-02-09T18:14:48.807753Z",
     "iopub.status.idle": "2024-02-09T18:14:48.814901Z",
     "shell.execute_reply": "2024-02-09T18:14:48.814087Z",
     "shell.execute_reply.started": "2024-02-09T18:14:48.808351Z"
    },
    "trusted": true
   },
   "outputs": [],
   "source": [
    "\n",
    "target_list =['Categories',\n",
    " 'cs.AI',\n",
    " 'cs.AR',\n",
    " 'cs.CE',\n",
    " 'cs.CL',\n",
    " 'cs.CR',\n",
    " 'cs.CV',\n",
    " 'cs.DB',\n",
    " 'cs.DC',\n",
    " 'cs.DM',\n",
    " 'cs.GT',\n",
    " 'cs.IR',\n",
    " 'cs.IT',\n",
    " 'cs.LG',\n",
    " 'cs.LO',\n",
    " 'cs.NI',\n",
    " 'cs.OS',\n",
    " 'cs.PL',\n",
    " 'cs.RO',\n",
    " 'cs.SD',\n",
    " 'cs.SE',\n",
    " 'econ.EM',\n",
    " 'econ.GN',\n",
    " 'econ.TH',\n",
    " 'eess.AS',\n",
    " 'eess.IV',\n",
    " 'eess.SP',\n",
    " 'math.AC',\n",
    " 'math.AP',\n",
    " 'math.AT',\n",
    " 'math.CO',\n",
    " 'math.CV',\n",
    " 'math.GR',\n",
    " 'math.IT',\n",
    " 'math.LO',\n",
    " 'math.NT',\n",
    " 'math.PR',\n",
    " 'math.QA',\n",
    " 'math.ST',\n",
    " 'q-bio.BM',\n",
    " 'q-bio.CB',\n",
    " 'q-bio.GN',\n",
    " 'q-bio.MN',\n",
    " 'q-bio.NC',\n",
    " 'q-bio.TO',\n",
    " 'q-fin.CP',\n",
    " 'q-fin.EC',\n",
    " 'q-fin.GN',\n",
    " 'q-fin.MF',\n",
    " 'q-fin.PM',\n",
    " 'q-fin.PR',\n",
    " 'q-fin.RM',\n",
    " 'q-fin.TR',\n",
    " 'stat.AP',\n",
    " 'stat.CO',\n",
    " 'stat.ME',\n",
    " 'stat.ML',\n",
    " 'stat.TH',\n",
    " 'combined']"
   ]
  },
  {
   "cell_type": "code",
   "execution_count": 19,
   "metadata": {
    "execution": {
     "iopub.execute_input": "2024-02-09T18:14:50.350438Z",
     "iopub.status.busy": "2024-02-09T18:14:50.350052Z",
     "iopub.status.idle": "2024-02-09T18:14:50.355438Z",
     "shell.execute_reply": "2024-02-09T18:14:50.354488Z",
     "shell.execute_reply.started": "2024-02-09T18:14:50.350402Z"
    },
    "trusted": true
   },
   "outputs": [
    {
     "name": "stdout",
     "output_type": "stream",
     "text": [
      "['cs.AI', 'cs.AR', 'cs.CE', 'cs.CL', 'cs.CR', 'cs.CV', 'cs.DB', 'cs.DC', 'cs.DM', 'cs.GT', 'cs.IR', 'cs.IT', 'cs.LG', 'cs.LO', 'cs.NI', 'cs.OS', 'cs.PL', 'cs.RO', 'cs.SD', 'cs.SE', 'econ.EM', 'econ.GN', 'econ.TH', 'eess.AS', 'eess.IV', 'eess.SP', 'math.AC', 'math.AP', 'math.AT', 'math.CO', 'math.CV', 'math.GR', 'math.IT', 'math.LO', 'math.NT', 'math.PR', 'math.QA', 'math.ST', 'q-bio.BM', 'q-bio.CB', 'q-bio.GN', 'q-bio.MN', 'q-bio.NC', 'q-bio.TO', 'q-fin.CP', 'q-fin.EC', 'q-fin.GN', 'q-fin.MF', 'q-fin.PM', 'q-fin.PR', 'q-fin.RM', 'q-fin.TR', 'stat.AP', 'stat.CO', 'stat.ME', 'stat.ML', 'stat.TH']\n"
     ]
    }
   ],
   "source": [
    "target_list = target_list[1:-1]\n",
    "print(target_list)"
   ]
  },
  {
   "cell_type": "code",
   "execution_count": 20,
   "metadata": {
    "execution": {
     "iopub.execute_input": "2024-02-09T18:14:52.484502Z",
     "iopub.status.busy": "2024-02-09T18:14:52.484130Z",
     "iopub.status.idle": "2024-02-09T18:14:52.510516Z",
     "shell.execute_reply": "2024-02-09T18:14:52.509345Z",
     "shell.execute_reply.started": "2024-02-09T18:14:52.484473Z"
    },
    "trusted": true
   },
   "outputs": [
    {
     "name": "stdout",
     "output_type": "stream",
     "text": [
      "cuda\n"
     ]
    }
   ],
   "source": [
    "device = 'cuda' if torch.cuda.is_available() else 'cpu'\n",
    "print(device)"
   ]
  },
  {
   "cell_type": "code",
   "execution_count": 21,
   "metadata": {
    "execution": {
     "iopub.execute_input": "2024-02-09T18:14:55.610855Z",
     "iopub.status.busy": "2024-02-09T18:14:55.610501Z",
     "iopub.status.idle": "2024-02-09T18:14:55.615352Z",
     "shell.execute_reply": "2024-02-09T18:14:55.614427Z",
     "shell.execute_reply.started": "2024-02-09T18:14:55.610825Z"
    },
    "trusted": true
   },
   "outputs": [],
   "source": [
    "import torch.nn as nn\n",
    "import torch.nn.functional as F\n",
    "import numpy as np\n"
   ]
  },
  {
   "cell_type": "code",
   "execution_count": 22,
   "metadata": {
    "execution": {
     "iopub.execute_input": "2024-02-09T18:14:59.335554Z",
     "iopub.status.busy": "2024-02-09T18:14:59.334888Z",
     "iopub.status.idle": "2024-02-09T18:15:00.122808Z",
     "shell.execute_reply": "2024-02-09T18:15:00.121854Z",
     "shell.execute_reply.started": "2024-02-09T18:14:59.335520Z"
    },
    "trusted": true
   },
   "outputs": [
    {
     "data": {
      "text/plain": [
       "DebertaClass(\n",
       "  (bert_model): DebertaModel(\n",
       "    (embeddings): DebertaEmbeddings(\n",
       "      (word_embeddings): Embedding(50265, 768, padding_idx=0)\n",
       "      (LayerNorm): DebertaLayerNorm()\n",
       "      (dropout): StableDropout()\n",
       "    )\n",
       "    (encoder): DebertaEncoder(\n",
       "      (layer): ModuleList(\n",
       "        (0-11): 12 x DebertaLayer(\n",
       "          (attention): DebertaAttention(\n",
       "            (self): DisentangledSelfAttention(\n",
       "              (in_proj): Linear(in_features=768, out_features=2304, bias=False)\n",
       "              (pos_dropout): StableDropout()\n",
       "              (pos_proj): Linear(in_features=768, out_features=768, bias=False)\n",
       "              (pos_q_proj): Linear(in_features=768, out_features=768, bias=True)\n",
       "              (dropout): StableDropout()\n",
       "            )\n",
       "            (output): DebertaSelfOutput(\n",
       "              (dense): Linear(in_features=768, out_features=768, bias=True)\n",
       "              (LayerNorm): DebertaLayerNorm()\n",
       "              (dropout): StableDropout()\n",
       "            )\n",
       "          )\n",
       "          (intermediate): DebertaIntermediate(\n",
       "            (dense): Linear(in_features=768, out_features=3072, bias=True)\n",
       "            (intermediate_act_fn): GELUActivation()\n",
       "          )\n",
       "          (output): DebertaOutput(\n",
       "            (dense): Linear(in_features=3072, out_features=768, bias=True)\n",
       "            (LayerNorm): DebertaLayerNorm()\n",
       "            (dropout): StableDropout()\n",
       "          )\n",
       "        )\n",
       "      )\n",
       "      (rel_embeddings): Embedding(1024, 768)\n",
       "    )\n",
       "  )\n",
       "  (dropout): Dropout(p=0.3, inplace=False)\n",
       "  (linear): Linear(in_features=768, out_features=57, bias=True)\n",
       ")"
      ]
     },
     "execution_count": 22,
     "metadata": {},
     "output_type": "execute_result"
    }
   ],
   "source": [
    "class  DebertaClass(torch.nn.Module):\n",
    "    def __init__(self):\n",
    "        super(DebertaClass, self).__init__()\n",
    "        self.bert_model = DebertaModel.from_pretrained('microsoft/deberta-base',return_dict=True)\n",
    "        self.dropout = torch.nn.Dropout(0.3)\n",
    "        self.linear = torch.nn.Linear(768, 57)\n",
    "    \n",
    "    def forward(self, input_ids, attn_mask, token_type_ids):\n",
    "        output = self.bert_model(\n",
    "            input_ids, \n",
    "            attention_mask=attn_mask, \n",
    "            token_type_ids=token_type_ids\n",
    "        )\n",
    "        cls_representation = output.last_hidden_state[:, 0]\n",
    "        output_dropout = self.dropout(cls_representation)\n",
    "        output = self.linear(output_dropout)\n",
    "        return output\n",
    "\n",
    "\n",
    "\n",
    "debertamodel = DebertaClass()\n",
    "debertamodel.to(device)\n",
    "\n"
   ]
  },
  {
   "cell_type": "code",
   "execution_count": 23,
   "metadata": {
    "execution": {
     "iopub.execute_input": "2024-02-09T18:15:01.062289Z",
     "iopub.status.busy": "2024-02-09T18:15:01.061925Z",
     "iopub.status.idle": "2024-02-09T18:15:08.467432Z",
     "shell.execute_reply": "2024-02-09T18:15:08.466575Z",
     "shell.execute_reply.started": "2024-02-09T18:15:01.062258Z"
    },
    "trusted": true
   },
   "outputs": [
    {
     "data": {
      "application/vnd.jupyter.widget-view+json": {
       "model_id": "9ef8809a262945ae88a4cd4d0da10946",
       "version_major": 2,
       "version_minor": 0
      },
      "text/plain": [
       "pytorch_model.bin:   0%|          | 0.00/1.63G [00:00<?, ?B/s]"
      ]
     },
     "metadata": {},
     "output_type": "display_data"
    },
    {
     "data": {
      "text/plain": [
       "DebertaLargeClass(\n",
       "  (bert_model): DebertaModel(\n",
       "    (embeddings): DebertaEmbeddings(\n",
       "      (word_embeddings): Embedding(50265, 1024, padding_idx=0)\n",
       "      (LayerNorm): DebertaLayerNorm()\n",
       "      (dropout): StableDropout()\n",
       "    )\n",
       "    (encoder): DebertaEncoder(\n",
       "      (layer): ModuleList(\n",
       "        (0-23): 24 x DebertaLayer(\n",
       "          (attention): DebertaAttention(\n",
       "            (self): DisentangledSelfAttention(\n",
       "              (in_proj): Linear(in_features=1024, out_features=3072, bias=False)\n",
       "              (pos_dropout): StableDropout()\n",
       "              (pos_proj): Linear(in_features=1024, out_features=1024, bias=False)\n",
       "              (pos_q_proj): Linear(in_features=1024, out_features=1024, bias=True)\n",
       "              (dropout): StableDropout()\n",
       "            )\n",
       "            (output): DebertaSelfOutput(\n",
       "              (dense): Linear(in_features=1024, out_features=1024, bias=True)\n",
       "              (LayerNorm): DebertaLayerNorm()\n",
       "              (dropout): StableDropout()\n",
       "            )\n",
       "          )\n",
       "          (intermediate): DebertaIntermediate(\n",
       "            (dense): Linear(in_features=1024, out_features=4096, bias=True)\n",
       "            (intermediate_act_fn): GELUActivation()\n",
       "          )\n",
       "          (output): DebertaOutput(\n",
       "            (dense): Linear(in_features=4096, out_features=1024, bias=True)\n",
       "            (LayerNorm): DebertaLayerNorm()\n",
       "            (dropout): StableDropout()\n",
       "          )\n",
       "        )\n",
       "      )\n",
       "      (rel_embeddings): Embedding(1024, 1024)\n",
       "    )\n",
       "  )\n",
       "  (dropout): Dropout(p=0.3, inplace=False)\n",
       "  (linear): Linear(in_features=1024, out_features=57, bias=True)\n",
       ")"
      ]
     },
     "execution_count": 23,
     "metadata": {},
     "output_type": "execute_result"
    }
   ],
   "source": [
    "class  DebertaLargeClass(torch.nn.Module):\n",
    "    def __init__(self):\n",
    "        super(DebertaLargeClass, self).__init__()\n",
    "        self.bert_model = DebertaModel.from_pretrained(\"microsoft/deberta-large\",return_dict=True)\n",
    "        self.dropout = torch.nn.Dropout(0.3)\n",
    "        self.linear = torch.nn.Linear(1024, 57)\n",
    "    \n",
    "    def forward(self, input_ids, attn_mask, token_type_ids):\n",
    "        output = self.bert_model(\n",
    "            input_ids, \n",
    "            attention_mask=attn_mask, \n",
    "            token_type_ids=token_type_ids\n",
    "        )\n",
    "        cls_representation = output.last_hidden_state[:, 0]\n",
    "        output_dropout = self.dropout(cls_representation)\n",
    "        output = self.linear(output_dropout)\n",
    "        return output\n",
    "\n",
    "\n",
    "deberta_largemodel = DebertaLargeClass()\n",
    "deberta_largemodel.to(device)"
   ]
  },
  {
   "cell_type": "code",
   "execution_count": 24,
   "metadata": {
    "execution": {
     "iopub.execute_input": "2024-02-09T18:15:08.469828Z",
     "iopub.status.busy": "2024-02-09T18:15:08.469472Z",
     "iopub.status.idle": "2024-02-09T18:15:10.794135Z",
     "shell.execute_reply": "2024-02-09T18:15:10.793162Z",
     "shell.execute_reply.started": "2024-02-09T18:15:08.469795Z"
    },
    "trusted": true
   },
   "outputs": [
    {
     "data": {
      "application/vnd.jupyter.widget-view+json": {
       "model_id": "5275b5b9f1ca46a3a5fd5751a9d6098c",
       "version_major": 2,
       "version_minor": 0
      },
      "text/plain": [
       "model.safetensors:   0%|          | 0.00/499M [00:00<?, ?B/s]"
      ]
     },
     "metadata": {},
     "output_type": "display_data"
    },
    {
     "name": "stderr",
     "output_type": "stream",
     "text": [
      "Some weights of RobertaModel were not initialized from the model checkpoint at roberta-base and are newly initialized: ['roberta.pooler.dense.bias', 'roberta.pooler.dense.weight']\n",
      "You should probably TRAIN this model on a down-stream task to be able to use it for predictions and inference.\n"
     ]
    },
    {
     "data": {
      "text/plain": [
       "RobertaClass(\n",
       "  (bert_model): RobertaModel(\n",
       "    (embeddings): RobertaEmbeddings(\n",
       "      (word_embeddings): Embedding(50265, 768, padding_idx=1)\n",
       "      (position_embeddings): Embedding(514, 768, padding_idx=1)\n",
       "      (token_type_embeddings): Embedding(1, 768)\n",
       "      (LayerNorm): LayerNorm((768,), eps=1e-05, elementwise_affine=True)\n",
       "      (dropout): Dropout(p=0.1, inplace=False)\n",
       "    )\n",
       "    (encoder): RobertaEncoder(\n",
       "      (layer): ModuleList(\n",
       "        (0-11): 12 x RobertaLayer(\n",
       "          (attention): RobertaAttention(\n",
       "            (self): RobertaSelfAttention(\n",
       "              (query): Linear(in_features=768, out_features=768, bias=True)\n",
       "              (key): Linear(in_features=768, out_features=768, bias=True)\n",
       "              (value): Linear(in_features=768, out_features=768, bias=True)\n",
       "              (dropout): Dropout(p=0.1, inplace=False)\n",
       "            )\n",
       "            (output): RobertaSelfOutput(\n",
       "              (dense): Linear(in_features=768, out_features=768, bias=True)\n",
       "              (LayerNorm): LayerNorm((768,), eps=1e-05, elementwise_affine=True)\n",
       "              (dropout): Dropout(p=0.1, inplace=False)\n",
       "            )\n",
       "          )\n",
       "          (intermediate): RobertaIntermediate(\n",
       "            (dense): Linear(in_features=768, out_features=3072, bias=True)\n",
       "            (intermediate_act_fn): GELUActivation()\n",
       "          )\n",
       "          (output): RobertaOutput(\n",
       "            (dense): Linear(in_features=3072, out_features=768, bias=True)\n",
       "            (LayerNorm): LayerNorm((768,), eps=1e-05, elementwise_affine=True)\n",
       "            (dropout): Dropout(p=0.1, inplace=False)\n",
       "          )\n",
       "        )\n",
       "      )\n",
       "    )\n",
       "    (pooler): RobertaPooler(\n",
       "      (dense): Linear(in_features=768, out_features=768, bias=True)\n",
       "      (activation): Tanh()\n",
       "    )\n",
       "  )\n",
       "  (dropout): Dropout(p=0.3, inplace=False)\n",
       "  (linear): Linear(in_features=768, out_features=57, bias=True)\n",
       ")"
      ]
     },
     "execution_count": 24,
     "metadata": {},
     "output_type": "execute_result"
    }
   ],
   "source": [
    "class  RobertaClass(torch.nn.Module):\n",
    "    def __init__(self):\n",
    "        super(RobertaClass, self).__init__()\n",
    "        self.bert_model = RobertaModel.from_pretrained(\"roberta-base\",return_dict=True)\n",
    "        self.dropout = torch.nn.Dropout(0.3)\n",
    "        self.linear = torch.nn.Linear(768, 57)\n",
    "    \n",
    "    def forward(self, input_ids, attn_mask, token_type_ids):\n",
    "        output = self.bert_model(\n",
    "            input_ids, \n",
    "            attention_mask=attn_mask, \n",
    "            token_type_ids=token_type_ids\n",
    "        )\n",
    "        output_dropout = self.dropout(output.pooler_output)\n",
    "        output = self.linear(output_dropout)\n",
    "        return output\n",
    "\n",
    "\n",
    "robertamodel = RobertaClass()\n",
    "robertamodel.to(device)"
   ]
  },
  {
   "cell_type": "code",
   "execution_count": 25,
   "metadata": {
    "execution": {
     "iopub.execute_input": "2024-02-09T18:15:10.795451Z",
     "iopub.status.busy": "2024-02-09T18:15:10.795157Z",
     "iopub.status.idle": "2024-02-09T18:15:11.533724Z",
     "shell.execute_reply": "2024-02-09T18:15:11.532544Z",
     "shell.execute_reply.started": "2024-02-09T18:15:10.795427Z"
    },
    "trusted": true
   },
   "outputs": [
    {
     "name": "stderr",
     "output_type": "stream",
     "text": [
      "/opt/conda/lib/python3.10/site-packages/transformers/optimization.py:429: FutureWarning: This implementation of AdamW is deprecated and will be removed in a future version. Use the PyTorch implementation torch.optim.AdamW instead, or set `no_deprecation_warning=True` to disable this warning\n",
      "  warnings.warn(\n"
     ]
    }
   ],
   "source": [
    "from transformers import AdamW\n",
    "from sklearn.metrics import f1_score\n",
    "optimizer = AdamW(debertamodel.parameters(), lr = 1e-5) \n",
    "optimizer1 = AdamW(deberta_largemodel.parameters(), lr = 1e-5) \n",
    "optimizer2 = AdamW(debertamodel.parameters(), lr = 1e-5) \n",
    "optimizer3 = AdamW(robertamodel.parameters(), lr = 1e-5)"
   ]
  },
  {
   "cell_type": "markdown",
   "metadata": {},
   "source": [
    "yaha load kar lena "
   ]
  },
  {
   "cell_type": "code",
   "execution_count": null,
   "metadata": {
    "execution": {
     "iopub.execute_input": "2024-02-09T18:15:15.409968Z",
     "iopub.status.busy": "2024-02-09T18:15:15.409395Z",
     "iopub.status.idle": "2024-02-09T18:15:22.421714Z",
     "shell.execute_reply": "2024-02-09T18:15:22.420689Z",
     "shell.execute_reply.started": "2024-02-09T18:15:15.409931Z"
    },
    "trusted": true
   },
   "outputs": [],
   "source": [
    "debertmodel = DebertaClass()\n",
    "debertamodel.load_state_dict(torch.load(\"/models/MLTC_model_statedetbert.bin69\"))\n",
    "debertamodel = debertamodel.to(device)"
   ]
  },
  {
   "cell_type": "code",
   "execution_count": null,
   "metadata": {
    "execution": {
     "iopub.execute_input": "2024-02-09T18:15:22.424269Z",
     "iopub.status.busy": "2024-02-09T18:15:22.423608Z",
     "iopub.status.idle": "2024-02-09T18:15:30.110909Z",
     "shell.execute_reply": "2024-02-09T18:15:30.109895Z",
     "shell.execute_reply.started": "2024-02-09T18:15:22.424235Z"
    },
    "trusted": true
   },
   "outputs": [],
   "source": [
    "debertamodel1 = DebertaClass()\n",
    "debertamodel1.load_state_dict(torch.load(\"/models/MLTC_model_statedet6.bin69\"))\n",
    "debertamodel1 = debertamodel1.to(device)"
   ]
  },
  {
   "cell_type": "code",
   "execution_count": null,
   "metadata": {
    "execution": {
     "iopub.execute_input": "2024-02-09T18:15:30.112392Z",
     "iopub.status.busy": "2024-02-09T18:15:30.112083Z",
     "iopub.status.idle": "2024-02-09T18:15:52.236625Z",
     "shell.execute_reply": "2024-02-09T18:15:52.235783Z",
     "shell.execute_reply.started": "2024-02-09T18:15:30.112366Z"
    },
    "trusted": true
   },
   "outputs": [],
   "source": [
    "deberta_largemodel = DebertaLargeClass()\n",
    "deberta_largemodel.load_state_dict(torch.load(\"/models/MLTC_model_statedet6.bin75\"))\n",
    "deberta_largemodel = deberta_largemodel.to(device)"
   ]
  },
  {
   "cell_type": "code",
   "execution_count": null,
   "metadata": {
    "execution": {
     "iopub.execute_input": "2024-02-09T18:15:52.238866Z",
     "iopub.status.busy": "2024-02-09T18:15:52.238582Z",
     "iopub.status.idle": "2024-02-09T18:15:58.689826Z",
     "shell.execute_reply": "2024-02-09T18:15:58.688924Z",
     "shell.execute_reply.started": "2024-02-09T18:15:52.238840Z"
    },
    "trusted": true
   },
   "outputs": [
    {
     "name": "stderr",
     "output_type": "stream",
     "text": [
      "Some weights of RobertaModel were not initialized from the model checkpoint at roberta-base and are newly initialized: ['roberta.pooler.dense.bias', 'roberta.pooler.dense.weight']\n",
      "You should probably TRAIN this model on a down-stream task to be able to use it for predictions and inference.\n"
     ]
    },
    {
     "data": {
      "text/plain": [
       "RobertaClass(\n",
       "  (bert_model): RobertaModel(\n",
       "    (embeddings): RobertaEmbeddings(\n",
       "      (word_embeddings): Embedding(50265, 768, padding_idx=1)\n",
       "      (position_embeddings): Embedding(514, 768, padding_idx=1)\n",
       "      (token_type_embeddings): Embedding(1, 768)\n",
       "      (LayerNorm): LayerNorm((768,), eps=1e-05, elementwise_affine=True)\n",
       "      (dropout): Dropout(p=0.1, inplace=False)\n",
       "    )\n",
       "    (encoder): RobertaEncoder(\n",
       "      (layer): ModuleList(\n",
       "        (0-11): 12 x RobertaLayer(\n",
       "          (attention): RobertaAttention(\n",
       "            (self): RobertaSelfAttention(\n",
       "              (query): Linear(in_features=768, out_features=768, bias=True)\n",
       "              (key): Linear(in_features=768, out_features=768, bias=True)\n",
       "              (value): Linear(in_features=768, out_features=768, bias=True)\n",
       "              (dropout): Dropout(p=0.1, inplace=False)\n",
       "            )\n",
       "            (output): RobertaSelfOutput(\n",
       "              (dense): Linear(in_features=768, out_features=768, bias=True)\n",
       "              (LayerNorm): LayerNorm((768,), eps=1e-05, elementwise_affine=True)\n",
       "              (dropout): Dropout(p=0.1, inplace=False)\n",
       "            )\n",
       "          )\n",
       "          (intermediate): RobertaIntermediate(\n",
       "            (dense): Linear(in_features=768, out_features=3072, bias=True)\n",
       "            (intermediate_act_fn): GELUActivation()\n",
       "          )\n",
       "          (output): RobertaOutput(\n",
       "            (dense): Linear(in_features=3072, out_features=768, bias=True)\n",
       "            (LayerNorm): LayerNorm((768,), eps=1e-05, elementwise_affine=True)\n",
       "            (dropout): Dropout(p=0.1, inplace=False)\n",
       "          )\n",
       "        )\n",
       "      )\n",
       "    )\n",
       "    (pooler): RobertaPooler(\n",
       "      (dense): Linear(in_features=768, out_features=768, bias=True)\n",
       "      (activation): Tanh()\n",
       "    )\n",
       "  )\n",
       "  (dropout): Dropout(p=0.3, inplace=False)\n",
       "  (linear): Linear(in_features=768, out_features=57, bias=True)\n",
       ")"
      ]
     },
     "execution_count": 29,
     "metadata": {},
     "output_type": "execute_result"
    }
   ],
   "source": [
    "robertamodel = RobertaClass()\n",
    "robertamodel.load_state_dict(torch.load('/models/MLTC_model_stateroberta3.bin5'))\n",
    "robertamodel.to(device)"
   ]
  },
  {
   "cell_type": "code",
   "execution_count": 30,
   "metadata": {
    "execution": {
     "iopub.execute_input": "2024-02-09T18:15:58.691402Z",
     "iopub.status.busy": "2024-02-09T18:15:58.691040Z",
     "iopub.status.idle": "2024-02-09T18:15:58.697081Z",
     "shell.execute_reply": "2024-02-09T18:15:58.696191Z",
     "shell.execute_reply.started": "2024-02-09T18:15:58.691367Z"
    },
    "trusted": true
   },
   "outputs": [],
   "source": [
    "def treatingzero_cases(predictions,prediction_probs):\n",
    "    all_zeros_mask = torch.all(predictions == 0, dim=1)\n",
    "    rows_with_all_zeros = torch.nonzero(all_zeros_mask).squeeze()\n",
    "    for idx in rows_with_all_zeros:\n",
    "        idx_value=torch.argmax(prediction_probs[idx,:])\n",
    "        predictions[idx,idx_value]=1\n",
    "    return predictions"
   ]
  },
  {
   "cell_type": "code",
   "execution_count": 31,
   "metadata": {
    "execution": {
     "iopub.execute_input": "2024-02-09T18:15:58.698535Z",
     "iopub.status.busy": "2024-02-09T18:15:58.698252Z",
     "iopub.status.idle": "2024-02-09T18:15:58.711062Z",
     "shell.execute_reply": "2024-02-09T18:15:58.710258Z",
     "shell.execute_reply.started": "2024-02-09T18:15:58.698511Z"
    },
    "trusted": true
   },
   "outputs": [],
   "source": [
    "class testDataset(torch.utils.data.Dataset):\n",
    "    def __init__(self, df, tokenizer, max_len):\n",
    "        self.tokenizer = tokenizer\n",
    "        self.df = df\n",
    "        self.title = list(df['combined'])\n",
    "        self.max_len = max_len\n",
    "\n",
    "    def __len__(self):\n",
    "        return len(self.title)\n",
    "\n",
    "    def __getitem__(self, index):\n",
    "        title = str(self.title[index])\n",
    "        title = \" \".join(title.split())\n",
    "        inputs = self.tokenizer.encode_plus(\n",
    "            title,\n",
    "            None,\n",
    "            add_special_tokens=True,\n",
    "            max_length=self.max_len,\n",
    "            return_token_type_ids=True,\n",
    "            padding='max_length',\n",
    "            truncation=True,\n",
    "            return_attention_mask=True,\n",
    "            return_tensors='pt'\n",
    "        )\n",
    "        return {\n",
    "            'input_ids': inputs['input_ids'].flatten(),\n",
    "            'attention_mask': inputs['attention_mask'].flatten(),\n",
    "            'token_type_ids': inputs[\"token_type_ids\"].flatten(),\n",
    "            'title': title\n",
    "        }"
   ]
  },
  {
   "cell_type": "code",
   "execution_count": null,
   "metadata": {
    "execution": {
     "iopub.execute_input": "2024-02-09T18:15:58.712753Z",
     "iopub.status.busy": "2024-02-09T18:15:58.712374Z",
     "iopub.status.idle": "2024-02-09T18:15:58.975965Z",
     "shell.execute_reply": "2024-02-09T18:15:58.975098Z",
     "shell.execute_reply.started": "2024-02-09T18:15:58.712722Z"
    },
    "trusted": true
   },
   "outputs": [],
   "source": [
    "tt=pd.read_csv('/Data/test.csv')"
   ]
  },
  {
   "cell_type": "code",
   "execution_count": 33,
   "metadata": {
    "execution": {
     "iopub.execute_input": "2024-02-09T18:15:58.977804Z",
     "iopub.status.busy": "2024-02-09T18:15:58.977171Z",
     "iopub.status.idle": "2024-02-09T18:15:58.990346Z",
     "shell.execute_reply": "2024-02-09T18:15:58.989364Z",
     "shell.execute_reply.started": "2024-02-09T18:15:58.977769Z"
    },
    "trusted": true
   },
   "outputs": [],
   "source": [
    "tt['combined']=tt['Title']+tt['Abstract']"
   ]
  },
  {
   "cell_type": "code",
   "execution_count": 34,
   "metadata": {
    "execution": {
     "iopub.execute_input": "2024-02-09T18:15:58.992344Z",
     "iopub.status.busy": "2024-02-09T18:15:58.991669Z",
     "iopub.status.idle": "2024-02-09T18:15:59.005996Z",
     "shell.execute_reply": "2024-02-09T18:15:59.005144Z",
     "shell.execute_reply.started": "2024-02-09T18:15:58.992287Z"
    },
    "trusted": true
   },
   "outputs": [],
   "source": [
    "df_dataset = testDataset(tt, tokenizer1, MAX_LEN)\n",
    "df_dataset1 = testDataset(tt, tokenizer2, MAX_LEN)\n",
    "df_dataset2 = testDataset(tt, tokenizer3, MAX_LEN)\n",
    "df_dataset3 = testDataset(tt, tokenizer4, MAX_LEN)"
   ]
  },
  {
   "cell_type": "code",
   "execution_count": 35,
   "metadata": {
    "execution": {
     "iopub.execute_input": "2024-02-09T18:15:59.009450Z",
     "iopub.status.busy": "2024-02-09T18:15:59.009163Z",
     "iopub.status.idle": "2024-02-09T18:15:59.020077Z",
     "shell.execute_reply": "2024-02-09T18:15:59.019344Z",
     "shell.execute_reply.started": "2024-02-09T18:15:59.009426Z"
    },
    "trusted": true
   },
   "outputs": [],
   "source": [
    "tt_data_loader = torch.utils.data.DataLoader(df_dataset, \n",
    "    batch_size=TEST_BATCH_SIZE,\n",
    "    shuffle=False,\n",
    "    num_workers=0\n",
    ")\n",
    "tt_data_loader1 = torch.utils.data.DataLoader(df_dataset1, \n",
    "    batch_size=TEST_BATCH_SIZE,\n",
    "    shuffle=False,\n",
    "    num_workers=0\n",
    ")\n",
    "tt_data_loader2 = torch.utils.data.DataLoader(df_dataset2, \n",
    "    batch_size=TEST_BATCH_SIZE,\n",
    "    shuffle=False,\n",
    "    num_workers=0\n",
    ")\n",
    "tt_data_loader3 = torch.utils.data.DataLoader(df_dataset3, \n",
    "    batch_size=TEST_BATCH_SIZE,\n",
    "    shuffle=False,\n",
    "    num_workers=0\n",
    ")"
   ]
  },
  {
   "cell_type": "code",
   "execution_count": 36,
   "metadata": {
    "execution": {
     "iopub.execute_input": "2024-02-09T18:15:59.021293Z",
     "iopub.status.busy": "2024-02-09T18:15:59.021056Z",
     "iopub.status.idle": "2024-02-09T18:15:59.034929Z",
     "shell.execute_reply": "2024-02-09T18:15:59.034060Z",
     "shell.execute_reply.started": "2024-02-09T18:15:59.021263Z"
    },
    "trusted": true
   },
   "outputs": [],
   "source": [
    "def get_predictions_test(model, model1, model2, model3, data_loader, data_loader1, data_loader2, data_loader3):\n",
    "    model = model.eval()\n",
    "    \n",
    "    titles = []\n",
    "    predictions = []\n",
    "    prediction_probs = []\n",
    "\n",
    "    with torch.no_grad():\n",
    "        for data, data1, data2, data3 in zip(data_loader, data_loader1, data_loader2, data_loader3):\n",
    "            title = data[\"title\"]\n",
    "            ids = data[\"input_ids\"].to(device, dtype=torch.long)\n",
    "            mask = data[\"attention_mask\"].to(device, dtype=torch.long)\n",
    "            token_type_ids = data['token_type_ids'].to(device, dtype=torch.long)\n",
    "          \n",
    "            outputs = model(ids, mask, token_type_ids)\n",
    "            \n",
    "\n",
    "            ids1 = data1[\"input_ids\"].to(device, dtype=torch.long)\n",
    "            mask1 = data1[\"attention_mask\"].to(device, dtype=torch.long)\n",
    "            token_type_ids1 = data1['token_type_ids'].to(device, dtype=torch.long)\n",
    "           \n",
    "            outputs1 = model1(ids1, mask1, token_type_ids1)\n",
    "            \n",
    "            ids2 = data2[\"input_ids\"].to(device, dtype=torch.long)\n",
    "            mask2 = data2[\"attention_mask\"].to(device, dtype=torch.long)\n",
    "            token_type_ids2 = data2['token_type_ids'].to(device, dtype=torch.long)\n",
    "          \n",
    "            outputs2 = model2(ids2, mask2, token_type_ids2)\n",
    "            \n",
    "            ids3 = data3[\"input_ids\"].to(device, dtype=torch.long)\n",
    "            mask3 = data3[\"attention_mask\"].to(device, dtype=torch.long)\n",
    "            token_type_ids3 = data3['token_type_ids'].to(device, dtype=torch.long)\n",
    "          \n",
    "            outputs3 = model3(ids3, mask3, token_type_ids3)\n",
    "\n",
    "            combined_outputs = (outputs + outputs1 + outputs2 + outputs3)/4\n",
    "            combined_outputs = torch.sigmoid(combined_outputs).detach().cpu()\n",
    "            custom_threshold = 0.47\n",
    "            preds = (combined_outputs >= custom_threshold).float()\n",
    "\n",
    "          \n",
    "\n",
    "            titles.extend(title)\n",
    "            predictions.extend(preds)\n",
    "            prediction_probs.extend(combined_outputs)\n",
    "          \n",
    "\n",
    "    predictions = torch.stack(predictions)\n",
    "    prediction_probs = torch.stack(prediction_probs)\n",
    "\n",
    "    return predictions, prediction_probs\n"
   ]
  },
  {
   "cell_type": "code",
   "execution_count": 37,
   "metadata": {
    "execution": {
     "iopub.execute_input": "2024-02-09T18:15:59.036676Z",
     "iopub.status.busy": "2024-02-09T18:15:59.036077Z",
     "iopub.status.idle": "2024-02-09T18:31:02.904634Z",
     "shell.execute_reply": "2024-02-09T18:31:02.903659Z",
     "shell.execute_reply.started": "2024-02-09T18:15:59.036644Z"
    },
    "trusted": true
   },
   "outputs": [],
   "source": [
    " predictions2,prediction_probs2 = get_predictions_test(debertamodel, deberta_largemodel, debertamodel1, robertamodel, tt_data_loader, tt_data_loader1, tt_data_loader2, tt_data_loader3)"
   ]
  },
  {
   "cell_type": "code",
   "execution_count": 38,
   "metadata": {
    "execution": {
     "iopub.execute_input": "2024-02-09T18:31:02.906369Z",
     "iopub.status.busy": "2024-02-09T18:31:02.905960Z",
     "iopub.status.idle": "2024-02-09T18:31:02.917755Z",
     "shell.execute_reply": "2024-02-09T18:31:02.916845Z",
     "shell.execute_reply.started": "2024-02-09T18:31:02.906333Z"
    },
    "trusted": true
   },
   "outputs": [],
   "source": [
    "predictions2=treatingzero_cases(predictions2,prediction_probs2)"
   ]
  },
  {
   "cell_type": "code",
   "execution_count": 39,
   "metadata": {
    "execution": {
     "iopub.execute_input": "2024-02-09T18:31:02.919337Z",
     "iopub.status.busy": "2024-02-09T18:31:02.919027Z",
     "iopub.status.idle": "2024-02-09T18:31:02.925085Z",
     "shell.execute_reply": "2024-02-09T18:31:02.924006Z",
     "shell.execute_reply.started": "2024-02-09T18:31:02.919296Z"
    },
    "trusted": true
   },
   "outputs": [],
   "source": [
    "def add_predictions_to_dataframe(tt, predictions, class_names):\n",
    "    for i, class_name in enumerate(class_names):\n",
    "        tt[class_name] = [pred[i].item() for pred in predictions]\n",
    "\n",
    "    return tt"
   ]
  },
  {
   "cell_type": "code",
   "execution_count": null,
   "metadata": {
    "trusted": true
   },
   "outputs": [],
   "source": []
  },
  {
   "cell_type": "code",
   "execution_count": 40,
   "metadata": {
    "execution": {
     "iopub.execute_input": "2024-02-09T18:31:02.927113Z",
     "iopub.status.busy": "2024-02-09T18:31:02.926716Z",
     "iopub.status.idle": "2024-02-09T18:31:06.308009Z",
     "shell.execute_reply": "2024-02-09T18:31:06.307024Z",
     "shell.execute_reply.started": "2024-02-09T18:31:02.927078Z"
    },
    "trusted": true
   },
   "outputs": [],
   "source": [
    "tt_df = add_predictions_to_dataframe(tt, predictions2,target_list)"
   ]
  },
  {
   "cell_type": "code",
   "execution_count": 41,
   "metadata": {
    "execution": {
     "iopub.execute_input": "2024-02-09T18:31:06.309472Z",
     "iopub.status.busy": "2024-02-09T18:31:06.309179Z",
     "iopub.status.idle": "2024-02-09T18:31:06.324917Z",
     "shell.execute_reply": "2024-02-09T18:31:06.324065Z",
     "shell.execute_reply.started": "2024-02-09T18:31:06.309448Z"
    },
    "trusted": true
   },
   "outputs": [],
   "source": [
    "rows_without_1 = ~tt_df.eq(1).any(axis=1)"
   ]
  },
  {
   "cell_type": "code",
   "execution_count": 42,
   "metadata": {
    "execution": {
     "iopub.execute_input": "2024-02-09T18:31:06.326522Z",
     "iopub.status.busy": "2024-02-09T18:31:06.326154Z",
     "iopub.status.idle": "2024-02-09T18:31:06.331427Z",
     "shell.execute_reply": "2024-02-09T18:31:06.330571Z",
     "shell.execute_reply.started": "2024-02-09T18:31:06.326490Z"
    },
    "trusted": true
   },
   "outputs": [],
   "source": [
    "num_rows_without_1 = rows_without_1.sum()"
   ]
  },
  {
   "cell_type": "code",
   "execution_count": 43,
   "metadata": {
    "execution": {
     "iopub.execute_input": "2024-02-09T18:31:06.332572Z",
     "iopub.status.busy": "2024-02-09T18:31:06.332330Z",
     "iopub.status.idle": "2024-02-09T18:31:06.341640Z",
     "shell.execute_reply": "2024-02-09T18:31:06.340728Z",
     "shell.execute_reply.started": "2024-02-09T18:31:06.332550Z"
    },
    "trusted": true
   },
   "outputs": [
    {
     "name": "stdout",
     "output_type": "stream",
     "text": [
      "Number of rows without 1 in any column: 0\n"
     ]
    }
   ],
   "source": [
    "print(\"Number of rows without 1 in any column:\", num_rows_without_1)"
   ]
  },
  {
   "cell_type": "code",
   "execution_count": 44,
   "metadata": {
    "execution": {
     "iopub.execute_input": "2024-02-09T18:31:06.342860Z",
     "iopub.status.busy": "2024-02-09T18:31:06.342632Z",
     "iopub.status.idle": "2024-02-09T18:31:06.360724Z",
     "shell.execute_reply": "2024-02-09T18:31:06.359958Z",
     "shell.execute_reply.started": "2024-02-09T18:31:06.342840Z"
    },
    "trusted": true
   },
   "outputs": [],
   "source": [
    "tt_df=tt_df.drop(columns=['Title','Abstract','combined'],axis=1)"
   ]
  },
  {
   "cell_type": "code",
   "execution_count": 45,
   "metadata": {
    "execution": {
     "iopub.execute_input": "2024-02-09T18:31:06.361946Z",
     "iopub.status.busy": "2024-02-09T18:31:06.361659Z",
     "iopub.status.idle": "2024-02-09T18:31:06.420078Z",
     "shell.execute_reply": "2024-02-09T18:31:06.419103Z",
     "shell.execute_reply.started": "2024-02-09T18:31:06.361917Z"
    },
    "trusted": true
   },
   "outputs": [
    {
     "data": {
      "text/html": [
       "<div>\n",
       "<style scoped>\n",
       "    .dataframe tbody tr th:only-of-type {\n",
       "        vertical-align: middle;\n",
       "    }\n",
       "\n",
       "    .dataframe tbody tr th {\n",
       "        vertical-align: top;\n",
       "    }\n",
       "\n",
       "    .dataframe thead th {\n",
       "        text-align: right;\n",
       "    }\n",
       "</style>\n",
       "<table border=\"1\" class=\"dataframe\">\n",
       "  <thead>\n",
       "    <tr style=\"text-align: right;\">\n",
       "      <th></th>\n",
       "      <th>Id</th>\n",
       "      <th>cs.AI</th>\n",
       "      <th>cs.AR</th>\n",
       "      <th>cs.CE</th>\n",
       "      <th>cs.CL</th>\n",
       "      <th>cs.CR</th>\n",
       "      <th>cs.CV</th>\n",
       "      <th>cs.DB</th>\n",
       "      <th>cs.DC</th>\n",
       "      <th>cs.DM</th>\n",
       "      <th>...</th>\n",
       "      <th>q-fin.MF</th>\n",
       "      <th>q-fin.PM</th>\n",
       "      <th>q-fin.PR</th>\n",
       "      <th>q-fin.RM</th>\n",
       "      <th>q-fin.TR</th>\n",
       "      <th>stat.AP</th>\n",
       "      <th>stat.CO</th>\n",
       "      <th>stat.ME</th>\n",
       "      <th>stat.ML</th>\n",
       "      <th>stat.TH</th>\n",
       "    </tr>\n",
       "  </thead>\n",
       "  <tbody>\n",
       "    <tr>\n",
       "      <th>0</th>\n",
       "      <td>30332</td>\n",
       "      <td>0.0</td>\n",
       "      <td>0.0</td>\n",
       "      <td>0.0</td>\n",
       "      <td>0.0</td>\n",
       "      <td>0.0</td>\n",
       "      <td>0.0</td>\n",
       "      <td>0.0</td>\n",
       "      <td>0.0</td>\n",
       "      <td>0.0</td>\n",
       "      <td>...</td>\n",
       "      <td>1.0</td>\n",
       "      <td>0.0</td>\n",
       "      <td>1.0</td>\n",
       "      <td>0.0</td>\n",
       "      <td>0.0</td>\n",
       "      <td>0.0</td>\n",
       "      <td>0.0</td>\n",
       "      <td>0.0</td>\n",
       "      <td>0.0</td>\n",
       "      <td>0.0</td>\n",
       "    </tr>\n",
       "    <tr>\n",
       "      <th>1</th>\n",
       "      <td>50337</td>\n",
       "      <td>0.0</td>\n",
       "      <td>0.0</td>\n",
       "      <td>0.0</td>\n",
       "      <td>0.0</td>\n",
       "      <td>0.0</td>\n",
       "      <td>0.0</td>\n",
       "      <td>0.0</td>\n",
       "      <td>1.0</td>\n",
       "      <td>0.0</td>\n",
       "      <td>...</td>\n",
       "      <td>0.0</td>\n",
       "      <td>0.0</td>\n",
       "      <td>0.0</td>\n",
       "      <td>0.0</td>\n",
       "      <td>0.0</td>\n",
       "      <td>0.0</td>\n",
       "      <td>0.0</td>\n",
       "      <td>0.0</td>\n",
       "      <td>0.0</td>\n",
       "      <td>0.0</td>\n",
       "    </tr>\n",
       "    <tr>\n",
       "      <th>2</th>\n",
       "      <td>66515</td>\n",
       "      <td>0.0</td>\n",
       "      <td>0.0</td>\n",
       "      <td>0.0</td>\n",
       "      <td>0.0</td>\n",
       "      <td>0.0</td>\n",
       "      <td>1.0</td>\n",
       "      <td>0.0</td>\n",
       "      <td>0.0</td>\n",
       "      <td>0.0</td>\n",
       "      <td>...</td>\n",
       "      <td>0.0</td>\n",
       "      <td>0.0</td>\n",
       "      <td>0.0</td>\n",
       "      <td>0.0</td>\n",
       "      <td>0.0</td>\n",
       "      <td>0.0</td>\n",
       "      <td>0.0</td>\n",
       "      <td>0.0</td>\n",
       "      <td>0.0</td>\n",
       "      <td>0.0</td>\n",
       "    </tr>\n",
       "    <tr>\n",
       "      <th>3</th>\n",
       "      <td>57464</td>\n",
       "      <td>0.0</td>\n",
       "      <td>1.0</td>\n",
       "      <td>0.0</td>\n",
       "      <td>0.0</td>\n",
       "      <td>0.0</td>\n",
       "      <td>1.0</td>\n",
       "      <td>0.0</td>\n",
       "      <td>0.0</td>\n",
       "      <td>0.0</td>\n",
       "      <td>...</td>\n",
       "      <td>0.0</td>\n",
       "      <td>0.0</td>\n",
       "      <td>0.0</td>\n",
       "      <td>0.0</td>\n",
       "      <td>0.0</td>\n",
       "      <td>0.0</td>\n",
       "      <td>0.0</td>\n",
       "      <td>0.0</td>\n",
       "      <td>0.0</td>\n",
       "      <td>0.0</td>\n",
       "    </tr>\n",
       "    <tr>\n",
       "      <th>4</th>\n",
       "      <td>43169</td>\n",
       "      <td>0.0</td>\n",
       "      <td>0.0</td>\n",
       "      <td>0.0</td>\n",
       "      <td>1.0</td>\n",
       "      <td>0.0</td>\n",
       "      <td>0.0</td>\n",
       "      <td>0.0</td>\n",
       "      <td>0.0</td>\n",
       "      <td>0.0</td>\n",
       "      <td>...</td>\n",
       "      <td>0.0</td>\n",
       "      <td>0.0</td>\n",
       "      <td>0.0</td>\n",
       "      <td>0.0</td>\n",
       "      <td>0.0</td>\n",
       "      <td>0.0</td>\n",
       "      <td>0.0</td>\n",
       "      <td>0.0</td>\n",
       "      <td>0.0</td>\n",
       "      <td>0.0</td>\n",
       "    </tr>\n",
       "    <tr>\n",
       "      <th>...</th>\n",
       "      <td>...</td>\n",
       "      <td>...</td>\n",
       "      <td>...</td>\n",
       "      <td>...</td>\n",
       "      <td>...</td>\n",
       "      <td>...</td>\n",
       "      <td>...</td>\n",
       "      <td>...</td>\n",
       "      <td>...</td>\n",
       "      <td>...</td>\n",
       "      <td>...</td>\n",
       "      <td>...</td>\n",
       "      <td>...</td>\n",
       "      <td>...</td>\n",
       "      <td>...</td>\n",
       "      <td>...</td>\n",
       "      <td>...</td>\n",
       "      <td>...</td>\n",
       "      <td>...</td>\n",
       "      <td>...</td>\n",
       "      <td>...</td>\n",
       "    </tr>\n",
       "    <tr>\n",
       "      <th>10969</th>\n",
       "      <td>41708</td>\n",
       "      <td>0.0</td>\n",
       "      <td>0.0</td>\n",
       "      <td>0.0</td>\n",
       "      <td>0.0</td>\n",
       "      <td>0.0</td>\n",
       "      <td>0.0</td>\n",
       "      <td>0.0</td>\n",
       "      <td>0.0</td>\n",
       "      <td>0.0</td>\n",
       "      <td>...</td>\n",
       "      <td>0.0</td>\n",
       "      <td>0.0</td>\n",
       "      <td>0.0</td>\n",
       "      <td>0.0</td>\n",
       "      <td>0.0</td>\n",
       "      <td>0.0</td>\n",
       "      <td>0.0</td>\n",
       "      <td>0.0</td>\n",
       "      <td>0.0</td>\n",
       "      <td>0.0</td>\n",
       "    </tr>\n",
       "    <tr>\n",
       "      <th>10970</th>\n",
       "      <td>38843</td>\n",
       "      <td>1.0</td>\n",
       "      <td>0.0</td>\n",
       "      <td>0.0</td>\n",
       "      <td>1.0</td>\n",
       "      <td>0.0</td>\n",
       "      <td>0.0</td>\n",
       "      <td>0.0</td>\n",
       "      <td>0.0</td>\n",
       "      <td>0.0</td>\n",
       "      <td>...</td>\n",
       "      <td>0.0</td>\n",
       "      <td>0.0</td>\n",
       "      <td>0.0</td>\n",
       "      <td>0.0</td>\n",
       "      <td>0.0</td>\n",
       "      <td>0.0</td>\n",
       "      <td>0.0</td>\n",
       "      <td>0.0</td>\n",
       "      <td>0.0</td>\n",
       "      <td>0.0</td>\n",
       "    </tr>\n",
       "    <tr>\n",
       "      <th>10971</th>\n",
       "      <td>57571</td>\n",
       "      <td>0.0</td>\n",
       "      <td>0.0</td>\n",
       "      <td>0.0</td>\n",
       "      <td>0.0</td>\n",
       "      <td>0.0</td>\n",
       "      <td>1.0</td>\n",
       "      <td>0.0</td>\n",
       "      <td>0.0</td>\n",
       "      <td>0.0</td>\n",
       "      <td>...</td>\n",
       "      <td>0.0</td>\n",
       "      <td>0.0</td>\n",
       "      <td>0.0</td>\n",
       "      <td>0.0</td>\n",
       "      <td>0.0</td>\n",
       "      <td>0.0</td>\n",
       "      <td>0.0</td>\n",
       "      <td>0.0</td>\n",
       "      <td>0.0</td>\n",
       "      <td>0.0</td>\n",
       "    </tr>\n",
       "    <tr>\n",
       "      <th>10972</th>\n",
       "      <td>31964</td>\n",
       "      <td>1.0</td>\n",
       "      <td>0.0</td>\n",
       "      <td>0.0</td>\n",
       "      <td>0.0</td>\n",
       "      <td>0.0</td>\n",
       "      <td>1.0</td>\n",
       "      <td>0.0</td>\n",
       "      <td>0.0</td>\n",
       "      <td>0.0</td>\n",
       "      <td>...</td>\n",
       "      <td>0.0</td>\n",
       "      <td>0.0</td>\n",
       "      <td>0.0</td>\n",
       "      <td>0.0</td>\n",
       "      <td>0.0</td>\n",
       "      <td>0.0</td>\n",
       "      <td>0.0</td>\n",
       "      <td>0.0</td>\n",
       "      <td>0.0</td>\n",
       "      <td>0.0</td>\n",
       "    </tr>\n",
       "    <tr>\n",
       "      <th>10973</th>\n",
       "      <td>22229</td>\n",
       "      <td>0.0</td>\n",
       "      <td>0.0</td>\n",
       "      <td>0.0</td>\n",
       "      <td>0.0</td>\n",
       "      <td>0.0</td>\n",
       "      <td>0.0</td>\n",
       "      <td>0.0</td>\n",
       "      <td>0.0</td>\n",
       "      <td>0.0</td>\n",
       "      <td>...</td>\n",
       "      <td>0.0</td>\n",
       "      <td>0.0</td>\n",
       "      <td>0.0</td>\n",
       "      <td>0.0</td>\n",
       "      <td>0.0</td>\n",
       "      <td>0.0</td>\n",
       "      <td>0.0</td>\n",
       "      <td>0.0</td>\n",
       "      <td>0.0</td>\n",
       "      <td>0.0</td>\n",
       "    </tr>\n",
       "  </tbody>\n",
       "</table>\n",
       "<p>10974 rows × 58 columns</p>\n",
       "</div>"
      ],
      "text/plain": [
       "          Id  cs.AI  cs.AR  cs.CE  cs.CL  cs.CR  cs.CV  cs.DB  cs.DC  cs.DM  \\\n",
       "0      30332    0.0    0.0    0.0    0.0    0.0    0.0    0.0    0.0    0.0   \n",
       "1      50337    0.0    0.0    0.0    0.0    0.0    0.0    0.0    1.0    0.0   \n",
       "2      66515    0.0    0.0    0.0    0.0    0.0    1.0    0.0    0.0    0.0   \n",
       "3      57464    0.0    1.0    0.0    0.0    0.0    1.0    0.0    0.0    0.0   \n",
       "4      43169    0.0    0.0    0.0    1.0    0.0    0.0    0.0    0.0    0.0   \n",
       "...      ...    ...    ...    ...    ...    ...    ...    ...    ...    ...   \n",
       "10969  41708    0.0    0.0    0.0    0.0    0.0    0.0    0.0    0.0    0.0   \n",
       "10970  38843    1.0    0.0    0.0    1.0    0.0    0.0    0.0    0.0    0.0   \n",
       "10971  57571    0.0    0.0    0.0    0.0    0.0    1.0    0.0    0.0    0.0   \n",
       "10972  31964    1.0    0.0    0.0    0.0    0.0    1.0    0.0    0.0    0.0   \n",
       "10973  22229    0.0    0.0    0.0    0.0    0.0    0.0    0.0    0.0    0.0   \n",
       "\n",
       "       ...  q-fin.MF  q-fin.PM  q-fin.PR  q-fin.RM  q-fin.TR  stat.AP  \\\n",
       "0      ...       1.0       0.0       1.0       0.0       0.0      0.0   \n",
       "1      ...       0.0       0.0       0.0       0.0       0.0      0.0   \n",
       "2      ...       0.0       0.0       0.0       0.0       0.0      0.0   \n",
       "3      ...       0.0       0.0       0.0       0.0       0.0      0.0   \n",
       "4      ...       0.0       0.0       0.0       0.0       0.0      0.0   \n",
       "...    ...       ...       ...       ...       ...       ...      ...   \n",
       "10969  ...       0.0       0.0       0.0       0.0       0.0      0.0   \n",
       "10970  ...       0.0       0.0       0.0       0.0       0.0      0.0   \n",
       "10971  ...       0.0       0.0       0.0       0.0       0.0      0.0   \n",
       "10972  ...       0.0       0.0       0.0       0.0       0.0      0.0   \n",
       "10973  ...       0.0       0.0       0.0       0.0       0.0      0.0   \n",
       "\n",
       "       stat.CO  stat.ME  stat.ML  stat.TH  \n",
       "0          0.0      0.0      0.0      0.0  \n",
       "1          0.0      0.0      0.0      0.0  \n",
       "2          0.0      0.0      0.0      0.0  \n",
       "3          0.0      0.0      0.0      0.0  \n",
       "4          0.0      0.0      0.0      0.0  \n",
       "...        ...      ...      ...      ...  \n",
       "10969      0.0      0.0      0.0      0.0  \n",
       "10970      0.0      0.0      0.0      0.0  \n",
       "10971      0.0      0.0      0.0      0.0  \n",
       "10972      0.0      0.0      0.0      0.0  \n",
       "10973      0.0      0.0      0.0      0.0  \n",
       "\n",
       "[10974 rows x 58 columns]"
      ]
     },
     "execution_count": 45,
     "metadata": {},
     "output_type": "execute_result"
    }
   ],
   "source": [
    "tt_df"
   ]
  },
  {
   "cell_type": "code",
   "execution_count": null,
   "metadata": {
    "execution": {
     "iopub.execute_input": "2024-02-09T18:31:06.421501Z",
     "iopub.status.busy": "2024-02-09T18:31:06.421197Z",
     "iopub.status.idle": "2024-02-09T18:31:06.506876Z",
     "shell.execute_reply": "2024-02-09T18:31:06.506065Z",
     "shell.execute_reply.started": "2024-02-09T18:31:06.421475Z"
    },
    "trusted": true
   },
   "outputs": [],
   "source": [
    "sample = pd.read_csv('/Data/sample_submission.csv')"
   ]
  },
  {
   "cell_type": "code",
   "execution_count": 47,
   "metadata": {
    "execution": {
     "iopub.execute_input": "2024-02-09T18:31:06.508357Z",
     "iopub.status.busy": "2024-02-09T18:31:06.508070Z",
     "iopub.status.idle": "2024-02-09T18:31:06.516354Z",
     "shell.execute_reply": "2024-02-09T18:31:06.515450Z",
     "shell.execute_reply.started": "2024-02-09T18:31:06.508323Z"
    },
    "trusted": true
   },
   "outputs": [],
   "source": [
    "tt_df = tt_df.reindex(columns = sample.columns)"
   ]
  },
  {
   "cell_type": "code",
   "execution_count": 48,
   "metadata": {
    "execution": {
     "iopub.execute_input": "2024-02-09T18:31:06.517701Z",
     "iopub.status.busy": "2024-02-09T18:31:06.517433Z",
     "iopub.status.idle": "2024-02-09T18:31:06.565245Z",
     "shell.execute_reply": "2024-02-09T18:31:06.564349Z",
     "shell.execute_reply.started": "2024-02-09T18:31:06.517677Z"
    },
    "trusted": true
   },
   "outputs": [
    {
     "data": {
      "text/html": [
       "<div>\n",
       "<style scoped>\n",
       "    .dataframe tbody tr th:only-of-type {\n",
       "        vertical-align: middle;\n",
       "    }\n",
       "\n",
       "    .dataframe tbody tr th {\n",
       "        vertical-align: top;\n",
       "    }\n",
       "\n",
       "    .dataframe thead th {\n",
       "        text-align: right;\n",
       "    }\n",
       "</style>\n",
       "<table border=\"1\" class=\"dataframe\">\n",
       "  <thead>\n",
       "    <tr style=\"text-align: right;\">\n",
       "      <th></th>\n",
       "      <th>Id</th>\n",
       "      <th>math.AT</th>\n",
       "      <th>stat.AP</th>\n",
       "      <th>cs.AR</th>\n",
       "      <th>math.QA</th>\n",
       "      <th>q-bio.MN</th>\n",
       "      <th>eess.AS</th>\n",
       "      <th>eess.IV</th>\n",
       "      <th>stat.ME</th>\n",
       "      <th>econ.GN</th>\n",
       "      <th>...</th>\n",
       "      <th>cs.SE</th>\n",
       "      <th>cs.RO</th>\n",
       "      <th>stat.TH</th>\n",
       "      <th>cs.DB</th>\n",
       "      <th>math.ST</th>\n",
       "      <th>q-bio.GN</th>\n",
       "      <th>q-fin.PM</th>\n",
       "      <th>q-bio.TO</th>\n",
       "      <th>math.GR</th>\n",
       "      <th>cs.IR</th>\n",
       "    </tr>\n",
       "  </thead>\n",
       "  <tbody>\n",
       "    <tr>\n",
       "      <th>0</th>\n",
       "      <td>30332</td>\n",
       "      <td>0.0</td>\n",
       "      <td>0.0</td>\n",
       "      <td>0.0</td>\n",
       "      <td>0.0</td>\n",
       "      <td>0.0</td>\n",
       "      <td>0.0</td>\n",
       "      <td>0.0</td>\n",
       "      <td>0.0</td>\n",
       "      <td>0.0</td>\n",
       "      <td>...</td>\n",
       "      <td>0.0</td>\n",
       "      <td>0.0</td>\n",
       "      <td>0.0</td>\n",
       "      <td>0.0</td>\n",
       "      <td>0.0</td>\n",
       "      <td>0.0</td>\n",
       "      <td>0.0</td>\n",
       "      <td>0.0</td>\n",
       "      <td>0.0</td>\n",
       "      <td>0.0</td>\n",
       "    </tr>\n",
       "    <tr>\n",
       "      <th>1</th>\n",
       "      <td>50337</td>\n",
       "      <td>0.0</td>\n",
       "      <td>0.0</td>\n",
       "      <td>0.0</td>\n",
       "      <td>0.0</td>\n",
       "      <td>0.0</td>\n",
       "      <td>0.0</td>\n",
       "      <td>0.0</td>\n",
       "      <td>0.0</td>\n",
       "      <td>0.0</td>\n",
       "      <td>...</td>\n",
       "      <td>0.0</td>\n",
       "      <td>0.0</td>\n",
       "      <td>0.0</td>\n",
       "      <td>0.0</td>\n",
       "      <td>0.0</td>\n",
       "      <td>0.0</td>\n",
       "      <td>0.0</td>\n",
       "      <td>0.0</td>\n",
       "      <td>0.0</td>\n",
       "      <td>0.0</td>\n",
       "    </tr>\n",
       "    <tr>\n",
       "      <th>2</th>\n",
       "      <td>66515</td>\n",
       "      <td>0.0</td>\n",
       "      <td>0.0</td>\n",
       "      <td>0.0</td>\n",
       "      <td>0.0</td>\n",
       "      <td>0.0</td>\n",
       "      <td>0.0</td>\n",
       "      <td>1.0</td>\n",
       "      <td>0.0</td>\n",
       "      <td>0.0</td>\n",
       "      <td>...</td>\n",
       "      <td>0.0</td>\n",
       "      <td>0.0</td>\n",
       "      <td>0.0</td>\n",
       "      <td>0.0</td>\n",
       "      <td>0.0</td>\n",
       "      <td>0.0</td>\n",
       "      <td>0.0</td>\n",
       "      <td>0.0</td>\n",
       "      <td>0.0</td>\n",
       "      <td>0.0</td>\n",
       "    </tr>\n",
       "    <tr>\n",
       "      <th>3</th>\n",
       "      <td>57464</td>\n",
       "      <td>0.0</td>\n",
       "      <td>0.0</td>\n",
       "      <td>1.0</td>\n",
       "      <td>0.0</td>\n",
       "      <td>0.0</td>\n",
       "      <td>0.0</td>\n",
       "      <td>1.0</td>\n",
       "      <td>0.0</td>\n",
       "      <td>0.0</td>\n",
       "      <td>...</td>\n",
       "      <td>0.0</td>\n",
       "      <td>0.0</td>\n",
       "      <td>0.0</td>\n",
       "      <td>0.0</td>\n",
       "      <td>0.0</td>\n",
       "      <td>0.0</td>\n",
       "      <td>0.0</td>\n",
       "      <td>0.0</td>\n",
       "      <td>0.0</td>\n",
       "      <td>0.0</td>\n",
       "    </tr>\n",
       "    <tr>\n",
       "      <th>4</th>\n",
       "      <td>43169</td>\n",
       "      <td>0.0</td>\n",
       "      <td>0.0</td>\n",
       "      <td>0.0</td>\n",
       "      <td>0.0</td>\n",
       "      <td>0.0</td>\n",
       "      <td>0.0</td>\n",
       "      <td>0.0</td>\n",
       "      <td>0.0</td>\n",
       "      <td>0.0</td>\n",
       "      <td>...</td>\n",
       "      <td>0.0</td>\n",
       "      <td>0.0</td>\n",
       "      <td>0.0</td>\n",
       "      <td>0.0</td>\n",
       "      <td>0.0</td>\n",
       "      <td>0.0</td>\n",
       "      <td>0.0</td>\n",
       "      <td>0.0</td>\n",
       "      <td>0.0</td>\n",
       "      <td>0.0</td>\n",
       "    </tr>\n",
       "    <tr>\n",
       "      <th>...</th>\n",
       "      <td>...</td>\n",
       "      <td>...</td>\n",
       "      <td>...</td>\n",
       "      <td>...</td>\n",
       "      <td>...</td>\n",
       "      <td>...</td>\n",
       "      <td>...</td>\n",
       "      <td>...</td>\n",
       "      <td>...</td>\n",
       "      <td>...</td>\n",
       "      <td>...</td>\n",
       "      <td>...</td>\n",
       "      <td>...</td>\n",
       "      <td>...</td>\n",
       "      <td>...</td>\n",
       "      <td>...</td>\n",
       "      <td>...</td>\n",
       "      <td>...</td>\n",
       "      <td>...</td>\n",
       "      <td>...</td>\n",
       "      <td>...</td>\n",
       "    </tr>\n",
       "    <tr>\n",
       "      <th>10969</th>\n",
       "      <td>41708</td>\n",
       "      <td>0.0</td>\n",
       "      <td>0.0</td>\n",
       "      <td>0.0</td>\n",
       "      <td>0.0</td>\n",
       "      <td>0.0</td>\n",
       "      <td>0.0</td>\n",
       "      <td>0.0</td>\n",
       "      <td>0.0</td>\n",
       "      <td>0.0</td>\n",
       "      <td>...</td>\n",
       "      <td>0.0</td>\n",
       "      <td>0.0</td>\n",
       "      <td>0.0</td>\n",
       "      <td>0.0</td>\n",
       "      <td>0.0</td>\n",
       "      <td>0.0</td>\n",
       "      <td>0.0</td>\n",
       "      <td>1.0</td>\n",
       "      <td>0.0</td>\n",
       "      <td>0.0</td>\n",
       "    </tr>\n",
       "    <tr>\n",
       "      <th>10970</th>\n",
       "      <td>38843</td>\n",
       "      <td>0.0</td>\n",
       "      <td>0.0</td>\n",
       "      <td>0.0</td>\n",
       "      <td>0.0</td>\n",
       "      <td>0.0</td>\n",
       "      <td>0.0</td>\n",
       "      <td>0.0</td>\n",
       "      <td>0.0</td>\n",
       "      <td>0.0</td>\n",
       "      <td>...</td>\n",
       "      <td>0.0</td>\n",
       "      <td>0.0</td>\n",
       "      <td>0.0</td>\n",
       "      <td>0.0</td>\n",
       "      <td>0.0</td>\n",
       "      <td>0.0</td>\n",
       "      <td>0.0</td>\n",
       "      <td>0.0</td>\n",
       "      <td>0.0</td>\n",
       "      <td>0.0</td>\n",
       "    </tr>\n",
       "    <tr>\n",
       "      <th>10971</th>\n",
       "      <td>57571</td>\n",
       "      <td>0.0</td>\n",
       "      <td>0.0</td>\n",
       "      <td>0.0</td>\n",
       "      <td>0.0</td>\n",
       "      <td>0.0</td>\n",
       "      <td>0.0</td>\n",
       "      <td>0.0</td>\n",
       "      <td>0.0</td>\n",
       "      <td>0.0</td>\n",
       "      <td>...</td>\n",
       "      <td>0.0</td>\n",
       "      <td>0.0</td>\n",
       "      <td>0.0</td>\n",
       "      <td>0.0</td>\n",
       "      <td>0.0</td>\n",
       "      <td>0.0</td>\n",
       "      <td>0.0</td>\n",
       "      <td>0.0</td>\n",
       "      <td>0.0</td>\n",
       "      <td>0.0</td>\n",
       "    </tr>\n",
       "    <tr>\n",
       "      <th>10972</th>\n",
       "      <td>31964</td>\n",
       "      <td>0.0</td>\n",
       "      <td>0.0</td>\n",
       "      <td>0.0</td>\n",
       "      <td>0.0</td>\n",
       "      <td>0.0</td>\n",
       "      <td>0.0</td>\n",
       "      <td>0.0</td>\n",
       "      <td>0.0</td>\n",
       "      <td>0.0</td>\n",
       "      <td>...</td>\n",
       "      <td>0.0</td>\n",
       "      <td>1.0</td>\n",
       "      <td>0.0</td>\n",
       "      <td>0.0</td>\n",
       "      <td>0.0</td>\n",
       "      <td>0.0</td>\n",
       "      <td>0.0</td>\n",
       "      <td>0.0</td>\n",
       "      <td>0.0</td>\n",
       "      <td>0.0</td>\n",
       "    </tr>\n",
       "    <tr>\n",
       "      <th>10973</th>\n",
       "      <td>22229</td>\n",
       "      <td>0.0</td>\n",
       "      <td>0.0</td>\n",
       "      <td>0.0</td>\n",
       "      <td>0.0</td>\n",
       "      <td>0.0</td>\n",
       "      <td>0.0</td>\n",
       "      <td>0.0</td>\n",
       "      <td>0.0</td>\n",
       "      <td>0.0</td>\n",
       "      <td>...</td>\n",
       "      <td>1.0</td>\n",
       "      <td>0.0</td>\n",
       "      <td>0.0</td>\n",
       "      <td>0.0</td>\n",
       "      <td>0.0</td>\n",
       "      <td>0.0</td>\n",
       "      <td>0.0</td>\n",
       "      <td>0.0</td>\n",
       "      <td>0.0</td>\n",
       "      <td>0.0</td>\n",
       "    </tr>\n",
       "  </tbody>\n",
       "</table>\n",
       "<p>10974 rows × 58 columns</p>\n",
       "</div>"
      ],
      "text/plain": [
       "          Id  math.AT  stat.AP  cs.AR  math.QA  q-bio.MN  eess.AS  eess.IV  \\\n",
       "0      30332      0.0      0.0    0.0      0.0       0.0      0.0      0.0   \n",
       "1      50337      0.0      0.0    0.0      0.0       0.0      0.0      0.0   \n",
       "2      66515      0.0      0.0    0.0      0.0       0.0      0.0      1.0   \n",
       "3      57464      0.0      0.0    1.0      0.0       0.0      0.0      1.0   \n",
       "4      43169      0.0      0.0    0.0      0.0       0.0      0.0      0.0   \n",
       "...      ...      ...      ...    ...      ...       ...      ...      ...   \n",
       "10969  41708      0.0      0.0    0.0      0.0       0.0      0.0      0.0   \n",
       "10970  38843      0.0      0.0    0.0      0.0       0.0      0.0      0.0   \n",
       "10971  57571      0.0      0.0    0.0      0.0       0.0      0.0      0.0   \n",
       "10972  31964      0.0      0.0    0.0      0.0       0.0      0.0      0.0   \n",
       "10973  22229      0.0      0.0    0.0      0.0       0.0      0.0      0.0   \n",
       "\n",
       "       stat.ME  econ.GN  ...  cs.SE  cs.RO  stat.TH  cs.DB  math.ST  q-bio.GN  \\\n",
       "0          0.0      0.0  ...    0.0    0.0      0.0    0.0      0.0       0.0   \n",
       "1          0.0      0.0  ...    0.0    0.0      0.0    0.0      0.0       0.0   \n",
       "2          0.0      0.0  ...    0.0    0.0      0.0    0.0      0.0       0.0   \n",
       "3          0.0      0.0  ...    0.0    0.0      0.0    0.0      0.0       0.0   \n",
       "4          0.0      0.0  ...    0.0    0.0      0.0    0.0      0.0       0.0   \n",
       "...        ...      ...  ...    ...    ...      ...    ...      ...       ...   \n",
       "10969      0.0      0.0  ...    0.0    0.0      0.0    0.0      0.0       0.0   \n",
       "10970      0.0      0.0  ...    0.0    0.0      0.0    0.0      0.0       0.0   \n",
       "10971      0.0      0.0  ...    0.0    0.0      0.0    0.0      0.0       0.0   \n",
       "10972      0.0      0.0  ...    0.0    1.0      0.0    0.0      0.0       0.0   \n",
       "10973      0.0      0.0  ...    1.0    0.0      0.0    0.0      0.0       0.0   \n",
       "\n",
       "       q-fin.PM  q-bio.TO  math.GR  cs.IR  \n",
       "0           0.0       0.0      0.0    0.0  \n",
       "1           0.0       0.0      0.0    0.0  \n",
       "2           0.0       0.0      0.0    0.0  \n",
       "3           0.0       0.0      0.0    0.0  \n",
       "4           0.0       0.0      0.0    0.0  \n",
       "...         ...       ...      ...    ...  \n",
       "10969       0.0       1.0      0.0    0.0  \n",
       "10970       0.0       0.0      0.0    0.0  \n",
       "10971       0.0       0.0      0.0    0.0  \n",
       "10972       0.0       0.0      0.0    0.0  \n",
       "10973       0.0       0.0      0.0    0.0  \n",
       "\n",
       "[10974 rows x 58 columns]"
      ]
     },
     "execution_count": 48,
     "metadata": {},
     "output_type": "execute_result"
    }
   ],
   "source": [
    "tt_df"
   ]
  },
  {
   "cell_type": "code",
   "execution_count": null,
   "metadata": {
    "execution": {
     "iopub.execute_input": "2024-02-09T18:34:43.548251Z",
     "iopub.status.busy": "2024-02-09T18:34:43.547864Z",
     "iopub.status.idle": "2024-02-09T18:34:43.989698Z",
     "shell.execute_reply": "2024-02-09T18:34:43.988697Z",
     "shell.execute_reply.started": "2024-02-09T18:34:43.548219Z"
    },
    "trusted": true
   },
   "outputs": [],
   "source": [
    "tt_df.to_csv('Kameng.csv', index=False)"
   ]
  },
  {
   "cell_type": "code",
   "execution_count": 50,
   "metadata": {
    "execution": {
     "iopub.execute_input": "2024-02-09T18:34:44.008460Z",
     "iopub.status.busy": "2024-02-09T18:34:44.007891Z",
     "iopub.status.idle": "2024-02-09T18:34:44.052196Z",
     "shell.execute_reply": "2024-02-09T18:34:44.051349Z",
     "shell.execute_reply.started": "2024-02-09T18:34:44.008432Z"
    },
    "trusted": true
   },
   "outputs": [
    {
     "data": {
      "text/html": [
       "<div>\n",
       "<style scoped>\n",
       "    .dataframe tbody tr th:only-of-type {\n",
       "        vertical-align: middle;\n",
       "    }\n",
       "\n",
       "    .dataframe tbody tr th {\n",
       "        vertical-align: top;\n",
       "    }\n",
       "\n",
       "    .dataframe thead th {\n",
       "        text-align: right;\n",
       "    }\n",
       "</style>\n",
       "<table border=\"1\" class=\"dataframe\">\n",
       "  <thead>\n",
       "    <tr style=\"text-align: right;\">\n",
       "      <th></th>\n",
       "      <th>Id</th>\n",
       "      <th>math.AT</th>\n",
       "      <th>stat.AP</th>\n",
       "      <th>cs.AR</th>\n",
       "      <th>math.QA</th>\n",
       "      <th>q-bio.MN</th>\n",
       "      <th>eess.AS</th>\n",
       "      <th>eess.IV</th>\n",
       "      <th>stat.ME</th>\n",
       "      <th>econ.GN</th>\n",
       "      <th>...</th>\n",
       "      <th>cs.SE</th>\n",
       "      <th>cs.RO</th>\n",
       "      <th>stat.TH</th>\n",
       "      <th>cs.DB</th>\n",
       "      <th>math.ST</th>\n",
       "      <th>q-bio.GN</th>\n",
       "      <th>q-fin.PM</th>\n",
       "      <th>q-bio.TO</th>\n",
       "      <th>math.GR</th>\n",
       "      <th>cs.IR</th>\n",
       "    </tr>\n",
       "  </thead>\n",
       "  <tbody>\n",
       "    <tr>\n",
       "      <th>0</th>\n",
       "      <td>30332</td>\n",
       "      <td>0.0</td>\n",
       "      <td>0.0</td>\n",
       "      <td>0.0</td>\n",
       "      <td>0.0</td>\n",
       "      <td>0.0</td>\n",
       "      <td>0.0</td>\n",
       "      <td>0.0</td>\n",
       "      <td>0.0</td>\n",
       "      <td>0.0</td>\n",
       "      <td>...</td>\n",
       "      <td>0.0</td>\n",
       "      <td>0.0</td>\n",
       "      <td>0.0</td>\n",
       "      <td>0.0</td>\n",
       "      <td>0.0</td>\n",
       "      <td>0.0</td>\n",
       "      <td>0.0</td>\n",
       "      <td>0.0</td>\n",
       "      <td>0.0</td>\n",
       "      <td>0.0</td>\n",
       "    </tr>\n",
       "    <tr>\n",
       "      <th>1</th>\n",
       "      <td>50337</td>\n",
       "      <td>0.0</td>\n",
       "      <td>0.0</td>\n",
       "      <td>0.0</td>\n",
       "      <td>0.0</td>\n",
       "      <td>0.0</td>\n",
       "      <td>0.0</td>\n",
       "      <td>0.0</td>\n",
       "      <td>0.0</td>\n",
       "      <td>0.0</td>\n",
       "      <td>...</td>\n",
       "      <td>0.0</td>\n",
       "      <td>0.0</td>\n",
       "      <td>0.0</td>\n",
       "      <td>0.0</td>\n",
       "      <td>0.0</td>\n",
       "      <td>0.0</td>\n",
       "      <td>0.0</td>\n",
       "      <td>0.0</td>\n",
       "      <td>0.0</td>\n",
       "      <td>0.0</td>\n",
       "    </tr>\n",
       "    <tr>\n",
       "      <th>2</th>\n",
       "      <td>66515</td>\n",
       "      <td>0.0</td>\n",
       "      <td>0.0</td>\n",
       "      <td>0.0</td>\n",
       "      <td>0.0</td>\n",
       "      <td>0.0</td>\n",
       "      <td>0.0</td>\n",
       "      <td>1.0</td>\n",
       "      <td>0.0</td>\n",
       "      <td>0.0</td>\n",
       "      <td>...</td>\n",
       "      <td>0.0</td>\n",
       "      <td>0.0</td>\n",
       "      <td>0.0</td>\n",
       "      <td>0.0</td>\n",
       "      <td>0.0</td>\n",
       "      <td>0.0</td>\n",
       "      <td>0.0</td>\n",
       "      <td>0.0</td>\n",
       "      <td>0.0</td>\n",
       "      <td>0.0</td>\n",
       "    </tr>\n",
       "    <tr>\n",
       "      <th>3</th>\n",
       "      <td>57464</td>\n",
       "      <td>0.0</td>\n",
       "      <td>0.0</td>\n",
       "      <td>1.0</td>\n",
       "      <td>0.0</td>\n",
       "      <td>0.0</td>\n",
       "      <td>0.0</td>\n",
       "      <td>1.0</td>\n",
       "      <td>0.0</td>\n",
       "      <td>0.0</td>\n",
       "      <td>...</td>\n",
       "      <td>0.0</td>\n",
       "      <td>0.0</td>\n",
       "      <td>0.0</td>\n",
       "      <td>0.0</td>\n",
       "      <td>0.0</td>\n",
       "      <td>0.0</td>\n",
       "      <td>0.0</td>\n",
       "      <td>0.0</td>\n",
       "      <td>0.0</td>\n",
       "      <td>0.0</td>\n",
       "    </tr>\n",
       "    <tr>\n",
       "      <th>4</th>\n",
       "      <td>43169</td>\n",
       "      <td>0.0</td>\n",
       "      <td>0.0</td>\n",
       "      <td>0.0</td>\n",
       "      <td>0.0</td>\n",
       "      <td>0.0</td>\n",
       "      <td>0.0</td>\n",
       "      <td>0.0</td>\n",
       "      <td>0.0</td>\n",
       "      <td>0.0</td>\n",
       "      <td>...</td>\n",
       "      <td>0.0</td>\n",
       "      <td>0.0</td>\n",
       "      <td>0.0</td>\n",
       "      <td>0.0</td>\n",
       "      <td>0.0</td>\n",
       "      <td>0.0</td>\n",
       "      <td>0.0</td>\n",
       "      <td>0.0</td>\n",
       "      <td>0.0</td>\n",
       "      <td>0.0</td>\n",
       "    </tr>\n",
       "    <tr>\n",
       "      <th>...</th>\n",
       "      <td>...</td>\n",
       "      <td>...</td>\n",
       "      <td>...</td>\n",
       "      <td>...</td>\n",
       "      <td>...</td>\n",
       "      <td>...</td>\n",
       "      <td>...</td>\n",
       "      <td>...</td>\n",
       "      <td>...</td>\n",
       "      <td>...</td>\n",
       "      <td>...</td>\n",
       "      <td>...</td>\n",
       "      <td>...</td>\n",
       "      <td>...</td>\n",
       "      <td>...</td>\n",
       "      <td>...</td>\n",
       "      <td>...</td>\n",
       "      <td>...</td>\n",
       "      <td>...</td>\n",
       "      <td>...</td>\n",
       "      <td>...</td>\n",
       "    </tr>\n",
       "    <tr>\n",
       "      <th>10969</th>\n",
       "      <td>41708</td>\n",
       "      <td>0.0</td>\n",
       "      <td>0.0</td>\n",
       "      <td>0.0</td>\n",
       "      <td>0.0</td>\n",
       "      <td>0.0</td>\n",
       "      <td>0.0</td>\n",
       "      <td>0.0</td>\n",
       "      <td>0.0</td>\n",
       "      <td>0.0</td>\n",
       "      <td>...</td>\n",
       "      <td>0.0</td>\n",
       "      <td>0.0</td>\n",
       "      <td>0.0</td>\n",
       "      <td>0.0</td>\n",
       "      <td>0.0</td>\n",
       "      <td>0.0</td>\n",
       "      <td>0.0</td>\n",
       "      <td>1.0</td>\n",
       "      <td>0.0</td>\n",
       "      <td>0.0</td>\n",
       "    </tr>\n",
       "    <tr>\n",
       "      <th>10970</th>\n",
       "      <td>38843</td>\n",
       "      <td>0.0</td>\n",
       "      <td>0.0</td>\n",
       "      <td>0.0</td>\n",
       "      <td>0.0</td>\n",
       "      <td>0.0</td>\n",
       "      <td>0.0</td>\n",
       "      <td>0.0</td>\n",
       "      <td>0.0</td>\n",
       "      <td>0.0</td>\n",
       "      <td>...</td>\n",
       "      <td>0.0</td>\n",
       "      <td>0.0</td>\n",
       "      <td>0.0</td>\n",
       "      <td>0.0</td>\n",
       "      <td>0.0</td>\n",
       "      <td>0.0</td>\n",
       "      <td>0.0</td>\n",
       "      <td>0.0</td>\n",
       "      <td>0.0</td>\n",
       "      <td>0.0</td>\n",
       "    </tr>\n",
       "    <tr>\n",
       "      <th>10971</th>\n",
       "      <td>57571</td>\n",
       "      <td>0.0</td>\n",
       "      <td>0.0</td>\n",
       "      <td>0.0</td>\n",
       "      <td>0.0</td>\n",
       "      <td>0.0</td>\n",
       "      <td>0.0</td>\n",
       "      <td>0.0</td>\n",
       "      <td>0.0</td>\n",
       "      <td>0.0</td>\n",
       "      <td>...</td>\n",
       "      <td>0.0</td>\n",
       "      <td>0.0</td>\n",
       "      <td>0.0</td>\n",
       "      <td>0.0</td>\n",
       "      <td>0.0</td>\n",
       "      <td>0.0</td>\n",
       "      <td>0.0</td>\n",
       "      <td>0.0</td>\n",
       "      <td>0.0</td>\n",
       "      <td>0.0</td>\n",
       "    </tr>\n",
       "    <tr>\n",
       "      <th>10972</th>\n",
       "      <td>31964</td>\n",
       "      <td>0.0</td>\n",
       "      <td>0.0</td>\n",
       "      <td>0.0</td>\n",
       "      <td>0.0</td>\n",
       "      <td>0.0</td>\n",
       "      <td>0.0</td>\n",
       "      <td>0.0</td>\n",
       "      <td>0.0</td>\n",
       "      <td>0.0</td>\n",
       "      <td>...</td>\n",
       "      <td>0.0</td>\n",
       "      <td>1.0</td>\n",
       "      <td>0.0</td>\n",
       "      <td>0.0</td>\n",
       "      <td>0.0</td>\n",
       "      <td>0.0</td>\n",
       "      <td>0.0</td>\n",
       "      <td>0.0</td>\n",
       "      <td>0.0</td>\n",
       "      <td>0.0</td>\n",
       "    </tr>\n",
       "    <tr>\n",
       "      <th>10973</th>\n",
       "      <td>22229</td>\n",
       "      <td>0.0</td>\n",
       "      <td>0.0</td>\n",
       "      <td>0.0</td>\n",
       "      <td>0.0</td>\n",
       "      <td>0.0</td>\n",
       "      <td>0.0</td>\n",
       "      <td>0.0</td>\n",
       "      <td>0.0</td>\n",
       "      <td>0.0</td>\n",
       "      <td>...</td>\n",
       "      <td>1.0</td>\n",
       "      <td>0.0</td>\n",
       "      <td>0.0</td>\n",
       "      <td>0.0</td>\n",
       "      <td>0.0</td>\n",
       "      <td>0.0</td>\n",
       "      <td>0.0</td>\n",
       "      <td>0.0</td>\n",
       "      <td>0.0</td>\n",
       "      <td>0.0</td>\n",
       "    </tr>\n",
       "  </tbody>\n",
       "</table>\n",
       "<p>10974 rows × 58 columns</p>\n",
       "</div>"
      ],
      "text/plain": [
       "          Id  math.AT  stat.AP  cs.AR  math.QA  q-bio.MN  eess.AS  eess.IV  \\\n",
       "0      30332      0.0      0.0    0.0      0.0       0.0      0.0      0.0   \n",
       "1      50337      0.0      0.0    0.0      0.0       0.0      0.0      0.0   \n",
       "2      66515      0.0      0.0    0.0      0.0       0.0      0.0      1.0   \n",
       "3      57464      0.0      0.0    1.0      0.0       0.0      0.0      1.0   \n",
       "4      43169      0.0      0.0    0.0      0.0       0.0      0.0      0.0   \n",
       "...      ...      ...      ...    ...      ...       ...      ...      ...   \n",
       "10969  41708      0.0      0.0    0.0      0.0       0.0      0.0      0.0   \n",
       "10970  38843      0.0      0.0    0.0      0.0       0.0      0.0      0.0   \n",
       "10971  57571      0.0      0.0    0.0      0.0       0.0      0.0      0.0   \n",
       "10972  31964      0.0      0.0    0.0      0.0       0.0      0.0      0.0   \n",
       "10973  22229      0.0      0.0    0.0      0.0       0.0      0.0      0.0   \n",
       "\n",
       "       stat.ME  econ.GN  ...  cs.SE  cs.RO  stat.TH  cs.DB  math.ST  q-bio.GN  \\\n",
       "0          0.0      0.0  ...    0.0    0.0      0.0    0.0      0.0       0.0   \n",
       "1          0.0      0.0  ...    0.0    0.0      0.0    0.0      0.0       0.0   \n",
       "2          0.0      0.0  ...    0.0    0.0      0.0    0.0      0.0       0.0   \n",
       "3          0.0      0.0  ...    0.0    0.0      0.0    0.0      0.0       0.0   \n",
       "4          0.0      0.0  ...    0.0    0.0      0.0    0.0      0.0       0.0   \n",
       "...        ...      ...  ...    ...    ...      ...    ...      ...       ...   \n",
       "10969      0.0      0.0  ...    0.0    0.0      0.0    0.0      0.0       0.0   \n",
       "10970      0.0      0.0  ...    0.0    0.0      0.0    0.0      0.0       0.0   \n",
       "10971      0.0      0.0  ...    0.0    0.0      0.0    0.0      0.0       0.0   \n",
       "10972      0.0      0.0  ...    0.0    1.0      0.0    0.0      0.0       0.0   \n",
       "10973      0.0      0.0  ...    1.0    0.0      0.0    0.0      0.0       0.0   \n",
       "\n",
       "       q-fin.PM  q-bio.TO  math.GR  cs.IR  \n",
       "0           0.0       0.0      0.0    0.0  \n",
       "1           0.0       0.0      0.0    0.0  \n",
       "2           0.0       0.0      0.0    0.0  \n",
       "3           0.0       0.0      0.0    0.0  \n",
       "4           0.0       0.0      0.0    0.0  \n",
       "...         ...       ...      ...    ...  \n",
       "10969       0.0       1.0      0.0    0.0  \n",
       "10970       0.0       0.0      0.0    0.0  \n",
       "10971       0.0       0.0      0.0    0.0  \n",
       "10972       0.0       0.0      0.0    0.0  \n",
       "10973       0.0       0.0      0.0    0.0  \n",
       "\n",
       "[10974 rows x 58 columns]"
      ]
     },
     "execution_count": 50,
     "metadata": {},
     "output_type": "execute_result"
    }
   ],
   "source": [
    "tt_df"
   ]
  },
  {
   "cell_type": "code",
   "execution_count": null,
   "metadata": {},
   "outputs": [],
   "source": []
  }
 ],
 "metadata": {
  "kaggle": {
   "accelerator": "gpu",
   "dataSources": [
    {
     "datasetId": 4413504,
     "sourceId": 7581801,
     "sourceType": "datasetVersion"
    },
    {
     "datasetId": 4413506,
     "sourceId": 7581805,
     "sourceType": "datasetVersion"
    },
    {
     "datasetId": 4420475,
     "sourceId": 7594523,
     "sourceType": "datasetVersion"
    },
    {
     "datasetId": 4420921,
     "sourceId": 7595225,
     "sourceType": "datasetVersion"
    },
    {
     "datasetId": 4421294,
     "sourceId": 7595826,
     "sourceType": "datasetVersion"
    },
    {
     "datasetId": 4421330,
     "sourceId": 7595875,
     "sourceType": "datasetVersion"
    },
    {
     "datasetId": 4420494,
     "sourceId": 7594547,
     "sourceType": "datasetVersion"
    },
    {
     "datasetId": 4420543,
     "sourceId": 7594630,
     "sourceType": "datasetVersion"
    }
   ],
   "dockerImageVersionId": 30646,
   "isGpuEnabled": true,
   "isInternetEnabled": true,
   "language": "python",
   "sourceType": "notebook"
  },
  "kernelspec": {
   "display_name": "Python 3",
   "language": "python",
   "name": "python3"
  },
  "language_info": {
   "codemirror_mode": {
    "name": "ipython",
    "version": 3
   },
   "file_extension": ".py",
   "mimetype": "text/x-python",
   "name": "python",
   "nbconvert_exporter": "python",
   "pygments_lexer": "ipython3",
   "version": "3.10.13"
  }
 },
 "nbformat": 4,
 "nbformat_minor": 4
}
